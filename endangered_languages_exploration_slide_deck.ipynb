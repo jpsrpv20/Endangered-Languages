{
 "cells": [
  {
   "cell_type": "markdown",
   "metadata": {
    "slideshow": {
     "slide_type": "slide"
    }
   },
   "source": [
    "# Endangered Languages Exploration\n",
    "## by Jean Pierre Simons Rondona\n",
    "\n",
    "### Overview\n",
    "In the study below I intend to answer the following questions:\n",
    "* What is the average amount of speakers in the world's endangered languages?\n",
    "* Do the amount of speakers directly correlate to a languages likelihood of extinction?\n",
    "* Does a language's world location impact it's likelihood of extinction?\n",
    "\n",
    "\n",
    "\n"
   ]
  },
  {
   "cell_type": "code",
   "execution_count": 2,
   "metadata": {
    "slideshow": {
     "slide_type": "skip"
    }
   },
   "outputs": [],
   "source": [
    "# import all packages and set plots to be embedded inline\n",
    "import numpy as np\n",
    "import pandas as pd\n",
    "import matplotlib.pyplot as plt\n",
    "import seaborn as sb\n",
    "from pandas.api.types import CategoricalDtype\n",
    "\n",
    "%matplotlib inline"
   ]
  },
  {
   "cell_type": "code",
   "execution_count": 3,
   "metadata": {
    "slideshow": {
     "slide_type": "skip"
    }
   },
   "outputs": [
    {
     "data": {
      "text/html": [
       "<div>\n",
       "<style scoped>\n",
       "    .dataframe tbody tr th:only-of-type {\n",
       "        vertical-align: middle;\n",
       "    }\n",
       "\n",
       "    .dataframe tbody tr th {\n",
       "        vertical-align: top;\n",
       "    }\n",
       "\n",
       "    .dataframe thead th {\n",
       "        text-align: right;\n",
       "    }\n",
       "</style>\n",
       "<table border=\"1\" class=\"dataframe\">\n",
       "  <thead>\n",
       "    <tr style=\"text-align: right;\">\n",
       "      <th></th>\n",
       "      <th>ID</th>\n",
       "      <th>Name in English</th>\n",
       "      <th>Name in French</th>\n",
       "      <th>Name in Spanish</th>\n",
       "      <th>Countries</th>\n",
       "      <th>Country codes alpha 3</th>\n",
       "      <th>ISO639-3 codes</th>\n",
       "      <th>Degree of endangerment</th>\n",
       "      <th>Alternate names</th>\n",
       "      <th>Name in the language</th>\n",
       "      <th>Number of speakers</th>\n",
       "      <th>Sources</th>\n",
       "      <th>Latitude</th>\n",
       "      <th>Longitude</th>\n",
       "      <th>Description of the location</th>\n",
       "    </tr>\n",
       "  </thead>\n",
       "  <tbody>\n",
       "    <tr>\n",
       "      <th>0</th>\n",
       "      <td>1022</td>\n",
       "      <td>South Italian</td>\n",
       "      <td>italien du sud</td>\n",
       "      <td>napolitano-calabrés</td>\n",
       "      <td>Italy</td>\n",
       "      <td>ITA</td>\n",
       "      <td>nap</td>\n",
       "      <td>Vulnerable</td>\n",
       "      <td>Neapolitan; Neapolitan-Calabrese; неаполитанск...</td>\n",
       "      <td>NaN</td>\n",
       "      <td>7500000.0</td>\n",
       "      <td>NaN</td>\n",
       "      <td>40.9798</td>\n",
       "      <td>15.2490</td>\n",
       "      <td>Campania, Lucania (Basilicata), Abruzzi (Abruz...</td>\n",
       "    </tr>\n",
       "    <tr>\n",
       "      <th>1</th>\n",
       "      <td>1023</td>\n",
       "      <td>Sicilian</td>\n",
       "      <td>sicilien</td>\n",
       "      <td>siciliano</td>\n",
       "      <td>Italy</td>\n",
       "      <td>ITA</td>\n",
       "      <td>scn</td>\n",
       "      <td>Vulnerable</td>\n",
       "      <td>NaN</td>\n",
       "      <td>NaN</td>\n",
       "      <td>5000000.0</td>\n",
       "      <td>NaN</td>\n",
       "      <td>37.4399</td>\n",
       "      <td>14.5019</td>\n",
       "      <td>Sicily (Sicilia), southern and central Calabri...</td>\n",
       "    </tr>\n",
       "    <tr>\n",
       "      <th>2</th>\n",
       "      <td>383</td>\n",
       "      <td>Low Saxon</td>\n",
       "      <td>bas-saxon</td>\n",
       "      <td>bajo sajón</td>\n",
       "      <td>Germany, Denmark, Netherlands, Poland, Russian...</td>\n",
       "      <td>DEU, DNK, NLD, POL, RUS</td>\n",
       "      <td>act, drt, frs, gos, nds, sdz, stl, twd, vel, wep</td>\n",
       "      <td>Vulnerable</td>\n",
       "      <td>Low German, Niedersächsisch, Nedersaksisch, Ni...</td>\n",
       "      <td>Neddersassisch</td>\n",
       "      <td>4800000.0</td>\n",
       "      <td>NaN</td>\n",
       "      <td>53.4029</td>\n",
       "      <td>10.3601</td>\n",
       "      <td>northern Germany, the north-eastern part of th...</td>\n",
       "    </tr>\n",
       "    <tr>\n",
       "      <th>3</th>\n",
       "      <td>335</td>\n",
       "      <td>Belarusian</td>\n",
       "      <td>biélorusse</td>\n",
       "      <td>bielorruso</td>\n",
       "      <td>Belarus, Latvia, Lithuania, Poland, Russian Fe...</td>\n",
       "      <td>BRB, LVA, LTU, POL, RUS, UKR</td>\n",
       "      <td>bel</td>\n",
       "      <td>Vulnerable</td>\n",
       "      <td>NaN</td>\n",
       "      <td>NaN</td>\n",
       "      <td>4000000.0</td>\n",
       "      <td>Hienadź Cychun: Weißrussisch. — Lexikon der Sp...</td>\n",
       "      <td>53.9560</td>\n",
       "      <td>27.5756</td>\n",
       "      <td>Belarus except the Polesian-speaking south-wes...</td>\n",
       "    </tr>\n",
       "    <tr>\n",
       "      <th>4</th>\n",
       "      <td>382</td>\n",
       "      <td>Lombard</td>\n",
       "      <td>lombard</td>\n",
       "      <td>lombardo</td>\n",
       "      <td>Italy, Switzerland</td>\n",
       "      <td>ITA, CHE</td>\n",
       "      <td>lmo</td>\n",
       "      <td>Definitely endangered</td>\n",
       "      <td>NaN</td>\n",
       "      <td>NaN</td>\n",
       "      <td>3500000.0</td>\n",
       "      <td>NaN</td>\n",
       "      <td>45.7215</td>\n",
       "      <td>9.3273</td>\n",
       "      <td>the region of Lombardy (except the southernmos...</td>\n",
       "    </tr>\n",
       "    <tr>\n",
       "      <th>5</th>\n",
       "      <td>405</td>\n",
       "      <td>Romani</td>\n",
       "      <td>romani</td>\n",
       "      <td>romaní</td>\n",
       "      <td>Albania, Germany, Austria, Belarus, Bosnia and...</td>\n",
       "      <td>ALB, DEU, AUT, BRB, BIH, BGR, HRV, EST, FIN, F...</td>\n",
       "      <td>rmc, rmf, rml, rmn, rmo, rmw, rmy</td>\n",
       "      <td>Definitely endangered</td>\n",
       "      <td>sinti, vlax,  calò</td>\n",
       "      <td>NaN</td>\n",
       "      <td>3500000.0</td>\n",
       "      <td>Yaron Matras: Romani: a linguistic introductio...</td>\n",
       "      <td>46.3165</td>\n",
       "      <td>22.3681</td>\n",
       "      <td>many European countries, most densely in East-...</td>\n",
       "    </tr>\n",
       "    <tr>\n",
       "      <th>6</th>\n",
       "      <td>2211</td>\n",
       "      <td>Yiddish (Israel)</td>\n",
       "      <td>yiddish (Israël)</td>\n",
       "      <td>yiddish (Israel)</td>\n",
       "      <td>Israel</td>\n",
       "      <td>ISR</td>\n",
       "      <td>ydd</td>\n",
       "      <td>Definitely endangered</td>\n",
       "      <td>Judeo-German</td>\n",
       "      <td>NaN</td>\n",
       "      <td>3000000.0</td>\n",
       "      <td>Neil G. Jacobs: Yiddish: a linguistic introduc...</td>\n",
       "      <td>32.0833</td>\n",
       "      <td>34.8333</td>\n",
       "      <td>most speakers now live outside Europe, mainly ...</td>\n",
       "    </tr>\n",
       "    <tr>\n",
       "      <th>7</th>\n",
       "      <td>1586</td>\n",
       "      <td>Gondi</td>\n",
       "      <td>gondi</td>\n",
       "      <td>gondí</td>\n",
       "      <td>India</td>\n",
       "      <td>IND</td>\n",
       "      <td>gon</td>\n",
       "      <td>Vulnerable</td>\n",
       "      <td>Gondi; Gaudi; Gondiva; Gondwadi; Goondile; Gou...</td>\n",
       "      <td>NaN</td>\n",
       "      <td>2713790.0</td>\n",
       "      <td>NaN</td>\n",
       "      <td>19.5804</td>\n",
       "      <td>80.4418</td>\n",
       "      <td>Madhya Pradesh (Betul, Chhindwara, Seoni, Mand...</td>\n",
       "    </tr>\n",
       "    <tr>\n",
       "      <th>8</th>\n",
       "      <td>1020</td>\n",
       "      <td>Limburgian-Ripuarian</td>\n",
       "      <td>francique ripuaire -limbourgeois</td>\n",
       "      <td>limburgués-ripuarino</td>\n",
       "      <td>Germany, Belgium, Netherlands</td>\n",
       "      <td>DEU, BEL, NLD</td>\n",
       "      <td>ksh, lim</td>\n",
       "      <td>Vulnerable</td>\n",
       "      <td>Colognian (dialect; in German: Kölsch)</td>\n",
       "      <td>NaN</td>\n",
       "      <td>2600000.0</td>\n",
       "      <td>NaN</td>\n",
       "      <td>50.7781</td>\n",
       "      <td>6.0864</td>\n",
       "      <td>Limburg provinces in Belgium and the Netherlan...</td>\n",
       "    </tr>\n",
       "    <tr>\n",
       "      <th>9</th>\n",
       "      <td>1943</td>\n",
       "      <td>Quechua of Southern Bolivia</td>\n",
       "      <td>quechua bolivien du sud</td>\n",
       "      <td>quechua boliviano meridional</td>\n",
       "      <td>Bolivia (Plurinational State of)</td>\n",
       "      <td>BOL</td>\n",
       "      <td>quh</td>\n",
       "      <td>Vulnerable</td>\n",
       "      <td>NaN</td>\n",
       "      <td>NaN</td>\n",
       "      <td>2300000.0</td>\n",
       "      <td>NaN</td>\n",
       "      <td>-18.0675</td>\n",
       "      <td>-65.7641</td>\n",
       "      <td>Departments of Cochabamba, Chuquisaca, Potosí ...</td>\n",
       "    </tr>\n",
       "  </tbody>\n",
       "</table>\n",
       "</div>"
      ],
      "text/plain": [
       "     ID              Name in English                    Name in French  \\\n",
       "0  1022                South Italian                    italien du sud   \n",
       "1  1023                     Sicilian                          sicilien   \n",
       "2   383                    Low Saxon                         bas-saxon   \n",
       "3   335                   Belarusian                        biélorusse   \n",
       "4   382                      Lombard                           lombard   \n",
       "5   405                       Romani                            romani   \n",
       "6  2211             Yiddish (Israel)                  yiddish (Israël)   \n",
       "7  1586                        Gondi                             gondi   \n",
       "8  1020         Limburgian-Ripuarian  francique ripuaire -limbourgeois   \n",
       "9  1943  Quechua of Southern Bolivia           quechua bolivien du sud   \n",
       "\n",
       "                Name in Spanish  \\\n",
       "0           napolitano-calabrés   \n",
       "1                     siciliano   \n",
       "2                    bajo sajón   \n",
       "3                    bielorruso   \n",
       "4                      lombardo   \n",
       "5                        romaní   \n",
       "6              yiddish (Israel)   \n",
       "7                         gondí   \n",
       "8          limburgués-ripuarino   \n",
       "9  quechua boliviano meridional   \n",
       "\n",
       "                                           Countries  \\\n",
       "0                                              Italy   \n",
       "1                                              Italy   \n",
       "2  Germany, Denmark, Netherlands, Poland, Russian...   \n",
       "3  Belarus, Latvia, Lithuania, Poland, Russian Fe...   \n",
       "4                                 Italy, Switzerland   \n",
       "5  Albania, Germany, Austria, Belarus, Bosnia and...   \n",
       "6                                             Israel   \n",
       "7                                              India   \n",
       "8                      Germany, Belgium, Netherlands   \n",
       "9                   Bolivia (Plurinational State of)   \n",
       "\n",
       "                               Country codes alpha 3  \\\n",
       "0                                                ITA   \n",
       "1                                                ITA   \n",
       "2                            DEU, DNK, NLD, POL, RUS   \n",
       "3                       BRB, LVA, LTU, POL, RUS, UKR   \n",
       "4                                           ITA, CHE   \n",
       "5  ALB, DEU, AUT, BRB, BIH, BGR, HRV, EST, FIN, F...   \n",
       "6                                                ISR   \n",
       "7                                                IND   \n",
       "8                                      DEU, BEL, NLD   \n",
       "9                                                BOL   \n",
       "\n",
       "                                     ISO639-3 codes Degree of endangerment  \\\n",
       "0                                               nap             Vulnerable   \n",
       "1                                               scn             Vulnerable   \n",
       "2  act, drt, frs, gos, nds, sdz, stl, twd, vel, wep             Vulnerable   \n",
       "3                                               bel             Vulnerable   \n",
       "4                                               lmo  Definitely endangered   \n",
       "5                 rmc, rmf, rml, rmn, rmo, rmw, rmy  Definitely endangered   \n",
       "6                                               ydd  Definitely endangered   \n",
       "7                                               gon             Vulnerable   \n",
       "8                                          ksh, lim             Vulnerable   \n",
       "9                                               quh             Vulnerable   \n",
       "\n",
       "                                     Alternate names Name in the language  \\\n",
       "0  Neapolitan; Neapolitan-Calabrese; неаполитанск...                  NaN   \n",
       "1                                                NaN                  NaN   \n",
       "2  Low German, Niedersächsisch, Nedersaksisch, Ni...       Neddersassisch   \n",
       "3                                                NaN                  NaN   \n",
       "4                                                NaN                  NaN   \n",
       "5                                 sinti, vlax,  calò                  NaN   \n",
       "6                                       Judeo-German                  NaN   \n",
       "7  Gondi; Gaudi; Gondiva; Gondwadi; Goondile; Gou...                  NaN   \n",
       "8             Colognian (dialect; in German: Kölsch)                  NaN   \n",
       "9                                                NaN                  NaN   \n",
       "\n",
       "   Number of speakers                                            Sources  \\\n",
       "0           7500000.0                                                NaN   \n",
       "1           5000000.0                                                NaN   \n",
       "2           4800000.0                                                NaN   \n",
       "3           4000000.0  Hienadź Cychun: Weißrussisch. — Lexikon der Sp...   \n",
       "4           3500000.0                                                NaN   \n",
       "5           3500000.0  Yaron Matras: Romani: a linguistic introductio...   \n",
       "6           3000000.0  Neil G. Jacobs: Yiddish: a linguistic introduc...   \n",
       "7           2713790.0                                                NaN   \n",
       "8           2600000.0                                                NaN   \n",
       "9           2300000.0                                                NaN   \n",
       "\n",
       "   Latitude  Longitude                        Description of the location  \n",
       "0   40.9798    15.2490  Campania, Lucania (Basilicata), Abruzzi (Abruz...  \n",
       "1   37.4399    14.5019  Sicily (Sicilia), southern and central Calabri...  \n",
       "2   53.4029    10.3601  northern Germany, the north-eastern part of th...  \n",
       "3   53.9560    27.5756  Belarus except the Polesian-speaking south-wes...  \n",
       "4   45.7215     9.3273  the region of Lombardy (except the southernmos...  \n",
       "5   46.3165    22.3681  many European countries, most densely in East-...  \n",
       "6   32.0833    34.8333  most speakers now live outside Europe, mainly ...  \n",
       "7   19.5804    80.4418  Madhya Pradesh (Betul, Chhindwara, Seoni, Mand...  \n",
       "8   50.7781     6.0864  Limburg provinces in Belgium and the Netherlan...  \n",
       "9  -18.0675   -65.7641  Departments of Cochabamba, Chuquisaca, Potosí ...  "
      ]
     },
     "execution_count": 3,
     "metadata": {},
     "output_type": "execute_result"
    }
   ],
   "source": [
    "# Load endangered languages data.\n",
    "end_lang = pd.read_csv('data.csv')\n",
    "end_lang.head(10)"
   ]
  },
  {
   "cell_type": "code",
   "execution_count": 4,
   "metadata": {
    "slideshow": {
     "slide_type": "skip"
    }
   },
   "outputs": [
    {
     "data": {
      "text/html": [
       "<div>\n",
       "<style scoped>\n",
       "    .dataframe tbody tr th:only-of-type {\n",
       "        vertical-align: middle;\n",
       "    }\n",
       "\n",
       "    .dataframe tbody tr th {\n",
       "        vertical-align: top;\n",
       "    }\n",
       "\n",
       "    .dataframe thead th {\n",
       "        text-align: right;\n",
       "    }\n",
       "</style>\n",
       "<table border=\"1\" class=\"dataframe\">\n",
       "  <thead>\n",
       "    <tr style=\"text-align: right;\">\n",
       "      <th></th>\n",
       "      <th>Country (or dependency)</th>\n",
       "      <th>Country Population (2020)</th>\n",
       "      <th>Yearly Change</th>\n",
       "      <th>Net Change</th>\n",
       "      <th>Density (P/Km²)</th>\n",
       "      <th>Land Area (Km²)</th>\n",
       "      <th>Migrants (net)</th>\n",
       "      <th>Fert. Rate</th>\n",
       "      <th>Med. Age</th>\n",
       "      <th>Urban Pop %</th>\n",
       "      <th>World Share</th>\n",
       "    </tr>\n",
       "  </thead>\n",
       "  <tbody>\n",
       "    <tr>\n",
       "      <th>0</th>\n",
       "      <td>China</td>\n",
       "      <td>1440297825</td>\n",
       "      <td>0.39%</td>\n",
       "      <td>5540090</td>\n",
       "      <td>153</td>\n",
       "      <td>9388211</td>\n",
       "      <td>-348399.0</td>\n",
       "      <td>1.7</td>\n",
       "      <td>38</td>\n",
       "      <td>61%</td>\n",
       "      <td>18.47%</td>\n",
       "    </tr>\n",
       "    <tr>\n",
       "      <th>1</th>\n",
       "      <td>India</td>\n",
       "      <td>1382345085</td>\n",
       "      <td>0.99%</td>\n",
       "      <td>13586631</td>\n",
       "      <td>464</td>\n",
       "      <td>2973190</td>\n",
       "      <td>-532687.0</td>\n",
       "      <td>2.2</td>\n",
       "      <td>28</td>\n",
       "      <td>35%</td>\n",
       "      <td>17.70%</td>\n",
       "    </tr>\n",
       "    <tr>\n",
       "      <th>2</th>\n",
       "      <td>United States</td>\n",
       "      <td>331341050</td>\n",
       "      <td>0.59%</td>\n",
       "      <td>1937734</td>\n",
       "      <td>36</td>\n",
       "      <td>9147420</td>\n",
       "      <td>954806.0</td>\n",
       "      <td>1.8</td>\n",
       "      <td>38</td>\n",
       "      <td>83%</td>\n",
       "      <td>4.25%</td>\n",
       "    </tr>\n",
       "    <tr>\n",
       "      <th>3</th>\n",
       "      <td>Indonesia</td>\n",
       "      <td>274021604</td>\n",
       "      <td>1.07%</td>\n",
       "      <td>2898047</td>\n",
       "      <td>151</td>\n",
       "      <td>1811570</td>\n",
       "      <td>-98955.0</td>\n",
       "      <td>2.3</td>\n",
       "      <td>30</td>\n",
       "      <td>56%</td>\n",
       "      <td>3.51%</td>\n",
       "    </tr>\n",
       "    <tr>\n",
       "      <th>4</th>\n",
       "      <td>Pakistan</td>\n",
       "      <td>221612785</td>\n",
       "      <td>2.00%</td>\n",
       "      <td>4327022</td>\n",
       "      <td>287</td>\n",
       "      <td>770880</td>\n",
       "      <td>-233379.0</td>\n",
       "      <td>3.6</td>\n",
       "      <td>23</td>\n",
       "      <td>35%</td>\n",
       "      <td>2.83%</td>\n",
       "    </tr>\n",
       "    <tr>\n",
       "      <th>5</th>\n",
       "      <td>Brazil</td>\n",
       "      <td>212821986</td>\n",
       "      <td>0.72%</td>\n",
       "      <td>1509890</td>\n",
       "      <td>25</td>\n",
       "      <td>8358140</td>\n",
       "      <td>21200.0</td>\n",
       "      <td>1.7</td>\n",
       "      <td>33</td>\n",
       "      <td>88%</td>\n",
       "      <td>2.73%</td>\n",
       "    </tr>\n",
       "    <tr>\n",
       "      <th>6</th>\n",
       "      <td>Nigeria</td>\n",
       "      <td>206984347</td>\n",
       "      <td>2.58%</td>\n",
       "      <td>5175990</td>\n",
       "      <td>226</td>\n",
       "      <td>910770</td>\n",
       "      <td>-60000.0</td>\n",
       "      <td>5.4</td>\n",
       "      <td>18</td>\n",
       "      <td>52%</td>\n",
       "      <td>2.64%</td>\n",
       "    </tr>\n",
       "    <tr>\n",
       "      <th>7</th>\n",
       "      <td>Bangladesh</td>\n",
       "      <td>164972348</td>\n",
       "      <td>1.01%</td>\n",
       "      <td>1643222</td>\n",
       "      <td>1265</td>\n",
       "      <td>130170</td>\n",
       "      <td>-369501.0</td>\n",
       "      <td>2.1</td>\n",
       "      <td>28</td>\n",
       "      <td>39%</td>\n",
       "      <td>2.11%</td>\n",
       "    </tr>\n",
       "    <tr>\n",
       "      <th>8</th>\n",
       "      <td>Russia</td>\n",
       "      <td>145945524</td>\n",
       "      <td>0.04%</td>\n",
       "      <td>62206</td>\n",
       "      <td>9</td>\n",
       "      <td>16376870</td>\n",
       "      <td>182456.0</td>\n",
       "      <td>1.8</td>\n",
       "      <td>40</td>\n",
       "      <td>74%</td>\n",
       "      <td>1.87%</td>\n",
       "    </tr>\n",
       "    <tr>\n",
       "      <th>9</th>\n",
       "      <td>Mexico</td>\n",
       "      <td>129166028</td>\n",
       "      <td>1.06%</td>\n",
       "      <td>1357224</td>\n",
       "      <td>66</td>\n",
       "      <td>1943950</td>\n",
       "      <td>-60000.0</td>\n",
       "      <td>2.1</td>\n",
       "      <td>29</td>\n",
       "      <td>84%</td>\n",
       "      <td>1.65%</td>\n",
       "    </tr>\n",
       "  </tbody>\n",
       "</table>\n",
       "</div>"
      ],
      "text/plain": [
       "  Country (or dependency)  Country Population (2020) Yearly Change  \\\n",
       "0                   China                 1440297825         0.39%   \n",
       "1                   India                 1382345085         0.99%   \n",
       "2           United States                  331341050         0.59%   \n",
       "3               Indonesia                  274021604         1.07%   \n",
       "4                Pakistan                  221612785         2.00%   \n",
       "5                  Brazil                  212821986         0.72%   \n",
       "6                 Nigeria                  206984347         2.58%   \n",
       "7              Bangladesh                  164972348         1.01%   \n",
       "8                  Russia                  145945524         0.04%   \n",
       "9                  Mexico                  129166028         1.06%   \n",
       "\n",
       "   Net Change  Density (P/Km²)  Land Area (Km²)  Migrants (net) Fert. Rate  \\\n",
       "0     5540090              153          9388211       -348399.0        1.7   \n",
       "1    13586631              464          2973190       -532687.0        2.2   \n",
       "2     1937734               36          9147420        954806.0        1.8   \n",
       "3     2898047              151          1811570        -98955.0        2.3   \n",
       "4     4327022              287           770880       -233379.0        3.6   \n",
       "5     1509890               25          8358140         21200.0        1.7   \n",
       "6     5175990              226           910770        -60000.0        5.4   \n",
       "7     1643222             1265           130170       -369501.0        2.1   \n",
       "8       62206                9         16376870        182456.0        1.8   \n",
       "9     1357224               66          1943950        -60000.0        2.1   \n",
       "\n",
       "  Med. Age Urban Pop % World Share  \n",
       "0       38         61%      18.47%  \n",
       "1       28         35%      17.70%  \n",
       "2       38         83%       4.25%  \n",
       "3       30         56%       3.51%  \n",
       "4       23         35%       2.83%  \n",
       "5       33         88%       2.73%  \n",
       "6       18         52%       2.64%  \n",
       "7       28         39%       2.11%  \n",
       "8       40         74%       1.87%  \n",
       "9       29         84%       1.65%  "
      ]
     },
     "execution_count": 4,
     "metadata": {},
     "output_type": "execute_result"
    }
   ],
   "source": [
    "# Load the world population\n",
    "pop = pd.read_csv('population_by_country_2020.csv')\n",
    "pop.head(10)"
   ]
  },
  {
   "cell_type": "code",
   "execution_count": 5,
   "metadata": {
    "slideshow": {
     "slide_type": "skip"
    }
   },
   "outputs": [
    {
     "data": {
      "text/html": [
       "<div>\n",
       "<style scoped>\n",
       "    .dataframe tbody tr th:only-of-type {\n",
       "        vertical-align: middle;\n",
       "    }\n",
       "\n",
       "    .dataframe tbody tr th {\n",
       "        vertical-align: top;\n",
       "    }\n",
       "\n",
       "    .dataframe thead th {\n",
       "        text-align: right;\n",
       "    }\n",
       "</style>\n",
       "<table border=\"1\" class=\"dataframe\">\n",
       "  <thead>\n",
       "    <tr style=\"text-align: right;\">\n",
       "      <th></th>\n",
       "      <th>ID</th>\n",
       "      <th>Number of speakers</th>\n",
       "      <th>Latitude</th>\n",
       "      <th>Longitude</th>\n",
       "    </tr>\n",
       "  </thead>\n",
       "  <tbody>\n",
       "    <tr>\n",
       "      <th>count</th>\n",
       "      <td>2722.000000</td>\n",
       "      <td>2.539000e+03</td>\n",
       "      <td>2719.000000</td>\n",
       "      <td>2719.000000</td>\n",
       "    </tr>\n",
       "    <tr>\n",
       "      <th>mean</th>\n",
       "      <td>1362.501102</td>\n",
       "      <td>5.365890e+04</td>\n",
       "      <td>16.247853</td>\n",
       "      <td>22.266012</td>\n",
       "    </tr>\n",
       "    <tr>\n",
       "      <th>std</th>\n",
       "      <td>785.919949</td>\n",
       "      <td>3.114620e+05</td>\n",
       "      <td>23.241828</td>\n",
       "      <td>92.611293</td>\n",
       "    </tr>\n",
       "    <tr>\n",
       "      <th>min</th>\n",
       "      <td>2.000000</td>\n",
       "      <td>0.000000e+00</td>\n",
       "      <td>-55.002800</td>\n",
       "      <td>-174.197800</td>\n",
       "    </tr>\n",
       "    <tr>\n",
       "      <th>25%</th>\n",
       "      <td>682.250000</td>\n",
       "      <td>5.000000e+01</td>\n",
       "      <td>-2.705000</td>\n",
       "      <td>-69.180850</td>\n",
       "    </tr>\n",
       "    <tr>\n",
       "      <th>50%</th>\n",
       "      <td>1362.500000</td>\n",
       "      <td>8.000000e+02</td>\n",
       "      <td>15.658700</td>\n",
       "      <td>30.591400</td>\n",
       "    </tr>\n",
       "    <tr>\n",
       "      <th>75%</th>\n",
       "      <td>2042.750000</td>\n",
       "      <td>6.872000e+03</td>\n",
       "      <td>34.214050</td>\n",
       "      <td>102.366000</td>\n",
       "    </tr>\n",
       "    <tr>\n",
       "      <th>max</th>\n",
       "      <td>2724.000000</td>\n",
       "      <td>7.500000e+06</td>\n",
       "      <td>77.481500</td>\n",
       "      <td>179.187000</td>\n",
       "    </tr>\n",
       "  </tbody>\n",
       "</table>\n",
       "</div>"
      ],
      "text/plain": [
       "                ID  Number of speakers     Latitude    Longitude\n",
       "count  2722.000000        2.539000e+03  2719.000000  2719.000000\n",
       "mean   1362.501102        5.365890e+04    16.247853    22.266012\n",
       "std     785.919949        3.114620e+05    23.241828    92.611293\n",
       "min       2.000000        0.000000e+00   -55.002800  -174.197800\n",
       "25%     682.250000        5.000000e+01    -2.705000   -69.180850\n",
       "50%    1362.500000        8.000000e+02    15.658700    30.591400\n",
       "75%    2042.750000        6.872000e+03    34.214050   102.366000\n",
       "max    2724.000000        7.500000e+06    77.481500   179.187000"
      ]
     },
     "execution_count": 5,
     "metadata": {},
     "output_type": "execute_result"
    }
   ],
   "source": [
    "end_lang.describe()"
   ]
  },
  {
   "cell_type": "code",
   "execution_count": 6,
   "metadata": {
    "slideshow": {
     "slide_type": "skip"
    }
   },
   "outputs": [],
   "source": [
    "# Drop the columns that are not in English\n",
    "end_lang = end_lang.drop(['Name in French','Name in Spanish','Alternate names', 'Name in the language'], axis=1)\n",
    "# Drop redunant columns\n",
    "end_lang = end_lang.drop(['Country codes alpha 3','ISO639-3 codes'], axis=1)"
   ]
  },
  {
   "cell_type": "code",
   "execution_count": 7,
   "metadata": {
    "slideshow": {
     "slide_type": "skip"
    }
   },
   "outputs": [
    {
     "data": {
      "text/plain": [
       "<bound method Series.count of Series([], Name: ID, dtype: int64)>"
      ]
     },
     "execution_count": 7,
     "metadata": {},
     "output_type": "execute_result"
    }
   ],
   "source": [
    "end_lang[end_lang['ID'].duplicated()]['ID'].count"
   ]
  },
  {
   "cell_type": "code",
   "execution_count": 8,
   "metadata": {
    "slideshow": {
     "slide_type": "skip"
    }
   },
   "outputs": [
    {
     "data": {
      "text/html": [
       "<div>\n",
       "<style scoped>\n",
       "    .dataframe tbody tr th:only-of-type {\n",
       "        vertical-align: middle;\n",
       "    }\n",
       "\n",
       "    .dataframe tbody tr th {\n",
       "        vertical-align: top;\n",
       "    }\n",
       "\n",
       "    .dataframe thead th {\n",
       "        text-align: right;\n",
       "    }\n",
       "</style>\n",
       "<table border=\"1\" class=\"dataframe\">\n",
       "  <thead>\n",
       "    <tr style=\"text-align: right;\">\n",
       "      <th></th>\n",
       "      <th>ID</th>\n",
       "      <th>Name in English</th>\n",
       "      <th>Countries</th>\n",
       "      <th>Degree of endangerment</th>\n",
       "      <th>Number of speakers</th>\n",
       "      <th>Sources</th>\n",
       "      <th>Latitude</th>\n",
       "      <th>Longitude</th>\n",
       "      <th>Description of the location</th>\n",
       "    </tr>\n",
       "  </thead>\n",
       "  <tbody>\n",
       "    <tr>\n",
       "      <th>0</th>\n",
       "      <td>1022</td>\n",
       "      <td>South Italian</td>\n",
       "      <td>Italy</td>\n",
       "      <td>Vulnerable</td>\n",
       "      <td>7500000.0</td>\n",
       "      <td>NaN</td>\n",
       "      <td>40.9798</td>\n",
       "      <td>15.2490</td>\n",
       "      <td>Campania, Lucania (Basilicata), Abruzzi (Abruz...</td>\n",
       "    </tr>\n",
       "    <tr>\n",
       "      <th>1</th>\n",
       "      <td>1023</td>\n",
       "      <td>Sicilian</td>\n",
       "      <td>Italy</td>\n",
       "      <td>Vulnerable</td>\n",
       "      <td>5000000.0</td>\n",
       "      <td>NaN</td>\n",
       "      <td>37.4399</td>\n",
       "      <td>14.5019</td>\n",
       "      <td>Sicily (Sicilia), southern and central Calabri...</td>\n",
       "    </tr>\n",
       "    <tr>\n",
       "      <th>2</th>\n",
       "      <td>383</td>\n",
       "      <td>Low Saxon</td>\n",
       "      <td>Germany, Denmark, Netherlands, Poland, Russian...</td>\n",
       "      <td>Vulnerable</td>\n",
       "      <td>4800000.0</td>\n",
       "      <td>NaN</td>\n",
       "      <td>53.4029</td>\n",
       "      <td>10.3601</td>\n",
       "      <td>northern Germany, the north-eastern part of th...</td>\n",
       "    </tr>\n",
       "    <tr>\n",
       "      <th>3</th>\n",
       "      <td>335</td>\n",
       "      <td>Belarusian</td>\n",
       "      <td>Belarus, Latvia, Lithuania, Poland, Russian Fe...</td>\n",
       "      <td>Vulnerable</td>\n",
       "      <td>4000000.0</td>\n",
       "      <td>Hienadź Cychun: Weißrussisch. — Lexikon der Sp...</td>\n",
       "      <td>53.9560</td>\n",
       "      <td>27.5756</td>\n",
       "      <td>Belarus except the Polesian-speaking south-wes...</td>\n",
       "    </tr>\n",
       "    <tr>\n",
       "      <th>4</th>\n",
       "      <td>382</td>\n",
       "      <td>Lombard</td>\n",
       "      <td>Italy, Switzerland</td>\n",
       "      <td>Definitely endangered</td>\n",
       "      <td>3500000.0</td>\n",
       "      <td>NaN</td>\n",
       "      <td>45.7215</td>\n",
       "      <td>9.3273</td>\n",
       "      <td>the region of Lombardy (except the southernmos...</td>\n",
       "    </tr>\n",
       "  </tbody>\n",
       "</table>\n",
       "</div>"
      ],
      "text/plain": [
       "     ID Name in English                                          Countries  \\\n",
       "0  1022   South Italian                                              Italy   \n",
       "1  1023        Sicilian                                              Italy   \n",
       "2   383       Low Saxon  Germany, Denmark, Netherlands, Poland, Russian...   \n",
       "3   335      Belarusian  Belarus, Latvia, Lithuania, Poland, Russian Fe...   \n",
       "4   382         Lombard                                 Italy, Switzerland   \n",
       "\n",
       "  Degree of endangerment  Number of speakers  \\\n",
       "0             Vulnerable           7500000.0   \n",
       "1             Vulnerable           5000000.0   \n",
       "2             Vulnerable           4800000.0   \n",
       "3             Vulnerable           4000000.0   \n",
       "4  Definitely endangered           3500000.0   \n",
       "\n",
       "                                             Sources  Latitude  Longitude  \\\n",
       "0                                                NaN   40.9798    15.2490   \n",
       "1                                                NaN   37.4399    14.5019   \n",
       "2                                                NaN   53.4029    10.3601   \n",
       "3  Hienadź Cychun: Weißrussisch. — Lexikon der Sp...   53.9560    27.5756   \n",
       "4                                                NaN   45.7215     9.3273   \n",
       "\n",
       "                         Description of the location  \n",
       "0  Campania, Lucania (Basilicata), Abruzzi (Abruz...  \n",
       "1  Sicily (Sicilia), southern and central Calabri...  \n",
       "2  northern Germany, the north-eastern part of th...  \n",
       "3  Belarus except the Polesian-speaking south-wes...  \n",
       "4  the region of Lombardy (except the southernmos...  "
      ]
     },
     "execution_count": 8,
     "metadata": {},
     "output_type": "execute_result"
    }
   ],
   "source": [
    "# Split the Countries and Description of the location cell values into multiple rows\n",
    "end_lang.head()"
   ]
  },
  {
   "cell_type": "code",
   "execution_count": 9,
   "metadata": {
    "slideshow": {
     "slide_type": "skip"
    }
   },
   "outputs": [],
   "source": [
    "#Split & explode countries\n",
    "end_lang['Countries'] = end_lang['Countries'].str.split(',')\n",
    "end_lang = end_lang.explode('Countries')\n",
    "#Split & explode Desription of the location\n",
    "end_lang['Description of the location'] = end_lang['Description of the location'].str.split(',')\n",
    "end_lang = end_lang.explode('Description of the location')"
   ]
  },
  {
   "cell_type": "code",
   "execution_count": 10,
   "metadata": {
    "slideshow": {
     "slide_type": "skip"
    }
   },
   "outputs": [
    {
     "data": {
      "text/plain": [
       "(6675, 9)"
      ]
     },
     "execution_count": 10,
     "metadata": {},
     "output_type": "execute_result"
    }
   ],
   "source": [
    "end_lang.shape"
   ]
  },
  {
   "cell_type": "code",
   "execution_count": 11,
   "metadata": {
    "slideshow": {
     "slide_type": "skip"
    }
   },
   "outputs": [],
   "source": [
    "# Join the world population data with our main data set.\n",
    "end_lang = end_lang.merge(pop, left_on='Countries', right_on='Country (or dependency)')"
   ]
  },
  {
   "cell_type": "code",
   "execution_count": 12,
   "metadata": {
    "slideshow": {
     "slide_type": "skip"
    }
   },
   "outputs": [
    {
     "data": {
      "text/plain": [
       "(4257, 20)"
      ]
     },
     "execution_count": 12,
     "metadata": {},
     "output_type": "execute_result"
    }
   ],
   "source": [
    "end_lang.shape"
   ]
  },
  {
   "cell_type": "code",
   "execution_count": 13,
   "metadata": {
    "slideshow": {
     "slide_type": "skip"
    }
   },
   "outputs": [
    {
     "data": {
      "text/html": [
       "<div>\n",
       "<style scoped>\n",
       "    .dataframe tbody tr th:only-of-type {\n",
       "        vertical-align: middle;\n",
       "    }\n",
       "\n",
       "    .dataframe tbody tr th {\n",
       "        vertical-align: top;\n",
       "    }\n",
       "\n",
       "    .dataframe thead th {\n",
       "        text-align: right;\n",
       "    }\n",
       "</style>\n",
       "<table border=\"1\" class=\"dataframe\">\n",
       "  <thead>\n",
       "    <tr style=\"text-align: right;\">\n",
       "      <th></th>\n",
       "      <th>ID</th>\n",
       "      <th>Name in English</th>\n",
       "      <th>Countries</th>\n",
       "      <th>Degree of endangerment</th>\n",
       "      <th>Number of speakers</th>\n",
       "      <th>Sources</th>\n",
       "      <th>Latitude</th>\n",
       "      <th>Longitude</th>\n",
       "      <th>Description of the location</th>\n",
       "      <th>Country (or dependency)</th>\n",
       "      <th>Country Population (2020)</th>\n",
       "      <th>Yearly Change</th>\n",
       "      <th>Net Change</th>\n",
       "      <th>Density (P/Km²)</th>\n",
       "      <th>Land Area (Km²)</th>\n",
       "      <th>Migrants (net)</th>\n",
       "      <th>Fert. Rate</th>\n",
       "      <th>Med. Age</th>\n",
       "      <th>Urban Pop %</th>\n",
       "      <th>World Share</th>\n",
       "    </tr>\n",
       "  </thead>\n",
       "  <tbody>\n",
       "    <tr>\n",
       "      <th>0</th>\n",
       "      <td>1022</td>\n",
       "      <td>South Italian</td>\n",
       "      <td>Italy</td>\n",
       "      <td>Vulnerable</td>\n",
       "      <td>7500000.0</td>\n",
       "      <td>NaN</td>\n",
       "      <td>40.9798</td>\n",
       "      <td>15.2490</td>\n",
       "      <td>Campania</td>\n",
       "      <td>Italy</td>\n",
       "      <td>60446035</td>\n",
       "      <td>-0.15%</td>\n",
       "      <td>-88249</td>\n",
       "      <td>206</td>\n",
       "      <td>294140</td>\n",
       "      <td>148943.0</td>\n",
       "      <td>1.3</td>\n",
       "      <td>47</td>\n",
       "      <td>69%</td>\n",
       "      <td>0.78%</td>\n",
       "    </tr>\n",
       "    <tr>\n",
       "      <th>1</th>\n",
       "      <td>1022</td>\n",
       "      <td>South Italian</td>\n",
       "      <td>Italy</td>\n",
       "      <td>Vulnerable</td>\n",
       "      <td>7500000.0</td>\n",
       "      <td>NaN</td>\n",
       "      <td>40.9798</td>\n",
       "      <td>15.2490</td>\n",
       "      <td>Lucania (Basilicata)</td>\n",
       "      <td>Italy</td>\n",
       "      <td>60446035</td>\n",
       "      <td>-0.15%</td>\n",
       "      <td>-88249</td>\n",
       "      <td>206</td>\n",
       "      <td>294140</td>\n",
       "      <td>148943.0</td>\n",
       "      <td>1.3</td>\n",
       "      <td>47</td>\n",
       "      <td>69%</td>\n",
       "      <td>0.78%</td>\n",
       "    </tr>\n",
       "    <tr>\n",
       "      <th>2</th>\n",
       "      <td>1022</td>\n",
       "      <td>South Italian</td>\n",
       "      <td>Italy</td>\n",
       "      <td>Vulnerable</td>\n",
       "      <td>7500000.0</td>\n",
       "      <td>NaN</td>\n",
       "      <td>40.9798</td>\n",
       "      <td>15.2490</td>\n",
       "      <td>Abruzzi (Abruzzo)</td>\n",
       "      <td>Italy</td>\n",
       "      <td>60446035</td>\n",
       "      <td>-0.15%</td>\n",
       "      <td>-88249</td>\n",
       "      <td>206</td>\n",
       "      <td>294140</td>\n",
       "      <td>148943.0</td>\n",
       "      <td>1.3</td>\n",
       "      <td>47</td>\n",
       "      <td>69%</td>\n",
       "      <td>0.78%</td>\n",
       "    </tr>\n",
       "    <tr>\n",
       "      <th>3</th>\n",
       "      <td>1022</td>\n",
       "      <td>South Italian</td>\n",
       "      <td>Italy</td>\n",
       "      <td>Vulnerable</td>\n",
       "      <td>7500000.0</td>\n",
       "      <td>NaN</td>\n",
       "      <td>40.9798</td>\n",
       "      <td>15.2490</td>\n",
       "      <td>Molise</td>\n",
       "      <td>Italy</td>\n",
       "      <td>60446035</td>\n",
       "      <td>-0.15%</td>\n",
       "      <td>-88249</td>\n",
       "      <td>206</td>\n",
       "      <td>294140</td>\n",
       "      <td>148943.0</td>\n",
       "      <td>1.3</td>\n",
       "      <td>47</td>\n",
       "      <td>69%</td>\n",
       "      <td>0.78%</td>\n",
       "    </tr>\n",
       "    <tr>\n",
       "      <th>4</th>\n",
       "      <td>1022</td>\n",
       "      <td>South Italian</td>\n",
       "      <td>Italy</td>\n",
       "      <td>Vulnerable</td>\n",
       "      <td>7500000.0</td>\n",
       "      <td>NaN</td>\n",
       "      <td>40.9798</td>\n",
       "      <td>15.2490</td>\n",
       "      <td>northern Calabria</td>\n",
       "      <td>Italy</td>\n",
       "      <td>60446035</td>\n",
       "      <td>-0.15%</td>\n",
       "      <td>-88249</td>\n",
       "      <td>206</td>\n",
       "      <td>294140</td>\n",
       "      <td>148943.0</td>\n",
       "      <td>1.3</td>\n",
       "      <td>47</td>\n",
       "      <td>69%</td>\n",
       "      <td>0.78%</td>\n",
       "    </tr>\n",
       "    <tr>\n",
       "      <th>...</th>\n",
       "      <td>...</td>\n",
       "      <td>...</td>\n",
       "      <td>...</td>\n",
       "      <td>...</td>\n",
       "      <td>...</td>\n",
       "      <td>...</td>\n",
       "      <td>...</td>\n",
       "      <td>...</td>\n",
       "      <td>...</td>\n",
       "      <td>...</td>\n",
       "      <td>...</td>\n",
       "      <td>...</td>\n",
       "      <td>...</td>\n",
       "      <td>...</td>\n",
       "      <td>...</td>\n",
       "      <td>...</td>\n",
       "      <td>...</td>\n",
       "      <td>...</td>\n",
       "      <td>...</td>\n",
       "      <td>...</td>\n",
       "    </tr>\n",
       "    <tr>\n",
       "      <th>95</th>\n",
       "      <td>1596</td>\n",
       "      <td>East Franconian</td>\n",
       "      <td>Germany</td>\n",
       "      <td>Vulnerable</td>\n",
       "      <td>NaN</td>\n",
       "      <td>http://vmf.i-iter.org/</td>\n",
       "      <td>50.0571</td>\n",
       "      <td>10.7336</td>\n",
       "      <td>Germany; formerly also in a small area north ...</td>\n",
       "      <td>Germany</td>\n",
       "      <td>83830972</td>\n",
       "      <td>0.32%</td>\n",
       "      <td>266897</td>\n",
       "      <td>240</td>\n",
       "      <td>348560</td>\n",
       "      <td>543822.0</td>\n",
       "      <td>1.6</td>\n",
       "      <td>46</td>\n",
       "      <td>76%</td>\n",
       "      <td>1.07%</td>\n",
       "    </tr>\n",
       "    <tr>\n",
       "      <th>96</th>\n",
       "      <td>1596</td>\n",
       "      <td>East Franconian</td>\n",
       "      <td>Germany</td>\n",
       "      <td>Vulnerable</td>\n",
       "      <td>NaN</td>\n",
       "      <td>http://vmf.i-iter.org/</td>\n",
       "      <td>50.0571</td>\n",
       "      <td>10.7336</td>\n",
       "      <td>Czech Republic; both the region and the class...</td>\n",
       "      <td>Germany</td>\n",
       "      <td>83830972</td>\n",
       "      <td>0.32%</td>\n",
       "      <td>266897</td>\n",
       "      <td>240</td>\n",
       "      <td>348560</td>\n",
       "      <td>543822.0</td>\n",
       "      <td>1.6</td>\n",
       "      <td>46</td>\n",
       "      <td>76%</td>\n",
       "      <td>1.07%</td>\n",
       "    </tr>\n",
       "    <tr>\n",
       "      <th>97</th>\n",
       "      <td>1478</td>\n",
       "      <td>Rhenish Franconian</td>\n",
       "      <td>Germany</td>\n",
       "      <td>Vulnerable</td>\n",
       "      <td>NaN</td>\n",
       "      <td>NaN</td>\n",
       "      <td>49.4467</td>\n",
       "      <td>8.2067</td>\n",
       "      <td>most parts of Rhineland-Palatinate and Hesse</td>\n",
       "      <td>Germany</td>\n",
       "      <td>83830972</td>\n",
       "      <td>0.32%</td>\n",
       "      <td>266897</td>\n",
       "      <td>240</td>\n",
       "      <td>348560</td>\n",
       "      <td>543822.0</td>\n",
       "      <td>1.6</td>\n",
       "      <td>46</td>\n",
       "      <td>76%</td>\n",
       "      <td>1.07%</td>\n",
       "    </tr>\n",
       "    <tr>\n",
       "      <th>98</th>\n",
       "      <td>1478</td>\n",
       "      <td>Rhenish Franconian</td>\n",
       "      <td>Germany</td>\n",
       "      <td>Vulnerable</td>\n",
       "      <td>NaN</td>\n",
       "      <td>NaN</td>\n",
       "      <td>49.4467</td>\n",
       "      <td>8.2067</td>\n",
       "      <td>the east and south of Saarland</td>\n",
       "      <td>Germany</td>\n",
       "      <td>83830972</td>\n",
       "      <td>0.32%</td>\n",
       "      <td>266897</td>\n",
       "      <td>240</td>\n",
       "      <td>348560</td>\n",
       "      <td>543822.0</td>\n",
       "      <td>1.6</td>\n",
       "      <td>46</td>\n",
       "      <td>76%</td>\n",
       "      <td>1.07%</td>\n",
       "    </tr>\n",
       "    <tr>\n",
       "      <th>99</th>\n",
       "      <td>1478</td>\n",
       "      <td>Rhenish Franconian</td>\n",
       "      <td>Germany</td>\n",
       "      <td>Vulnerable</td>\n",
       "      <td>NaN</td>\n",
       "      <td>NaN</td>\n",
       "      <td>49.4467</td>\n",
       "      <td>8.2067</td>\n",
       "      <td>the north of Baden-Württemberg</td>\n",
       "      <td>Germany</td>\n",
       "      <td>83830972</td>\n",
       "      <td>0.32%</td>\n",
       "      <td>266897</td>\n",
       "      <td>240</td>\n",
       "      <td>348560</td>\n",
       "      <td>543822.0</td>\n",
       "      <td>1.6</td>\n",
       "      <td>46</td>\n",
       "      <td>76%</td>\n",
       "      <td>1.07%</td>\n",
       "    </tr>\n",
       "  </tbody>\n",
       "</table>\n",
       "<p>100 rows × 20 columns</p>\n",
       "</div>"
      ],
      "text/plain": [
       "      ID     Name in English Countries Degree of endangerment  \\\n",
       "0   1022       South Italian     Italy             Vulnerable   \n",
       "1   1022       South Italian     Italy             Vulnerable   \n",
       "2   1022       South Italian     Italy             Vulnerable   \n",
       "3   1022       South Italian     Italy             Vulnerable   \n",
       "4   1022       South Italian     Italy             Vulnerable   \n",
       "..   ...                 ...       ...                    ...   \n",
       "95  1596     East Franconian   Germany             Vulnerable   \n",
       "96  1596     East Franconian   Germany             Vulnerable   \n",
       "97  1478  Rhenish Franconian   Germany             Vulnerable   \n",
       "98  1478  Rhenish Franconian   Germany             Vulnerable   \n",
       "99  1478  Rhenish Franconian   Germany             Vulnerable   \n",
       "\n",
       "    Number of speakers                 Sources  Latitude  Longitude  \\\n",
       "0            7500000.0                     NaN   40.9798    15.2490   \n",
       "1            7500000.0                     NaN   40.9798    15.2490   \n",
       "2            7500000.0                     NaN   40.9798    15.2490   \n",
       "3            7500000.0                     NaN   40.9798    15.2490   \n",
       "4            7500000.0                     NaN   40.9798    15.2490   \n",
       "..                 ...                     ...       ...        ...   \n",
       "95                 NaN  http://vmf.i-iter.org/   50.0571    10.7336   \n",
       "96                 NaN  http://vmf.i-iter.org/   50.0571    10.7336   \n",
       "97                 NaN                     NaN   49.4467     8.2067   \n",
       "98                 NaN                     NaN   49.4467     8.2067   \n",
       "99                 NaN                     NaN   49.4467     8.2067   \n",
       "\n",
       "                          Description of the location Country (or dependency)  \\\n",
       "0                                            Campania                   Italy   \n",
       "1                                Lucania (Basilicata)                   Italy   \n",
       "2                                   Abruzzi (Abruzzo)                   Italy   \n",
       "3                                              Molise                   Italy   \n",
       "4                                   northern Calabria                   Italy   \n",
       "..                                                ...                     ...   \n",
       "95   Germany; formerly also in a small area north ...                 Germany   \n",
       "96   Czech Republic; both the region and the class...                 Germany   \n",
       "97       most parts of Rhineland-Palatinate and Hesse                 Germany   \n",
       "98                     the east and south of Saarland                 Germany   \n",
       "99                     the north of Baden-Württemberg                 Germany   \n",
       "\n",
       "    Country Population (2020) Yearly Change  Net Change  Density (P/Km²)  \\\n",
       "0                    60446035        -0.15%      -88249              206   \n",
       "1                    60446035        -0.15%      -88249              206   \n",
       "2                    60446035        -0.15%      -88249              206   \n",
       "3                    60446035        -0.15%      -88249              206   \n",
       "4                    60446035        -0.15%      -88249              206   \n",
       "..                        ...           ...         ...              ...   \n",
       "95                   83830972         0.32%      266897              240   \n",
       "96                   83830972         0.32%      266897              240   \n",
       "97                   83830972         0.32%      266897              240   \n",
       "98                   83830972         0.32%      266897              240   \n",
       "99                   83830972         0.32%      266897              240   \n",
       "\n",
       "    Land Area (Km²)  Migrants (net) Fert. Rate Med. Age Urban Pop %  \\\n",
       "0            294140        148943.0        1.3       47         69%   \n",
       "1            294140        148943.0        1.3       47         69%   \n",
       "2            294140        148943.0        1.3       47         69%   \n",
       "3            294140        148943.0        1.3       47         69%   \n",
       "4            294140        148943.0        1.3       47         69%   \n",
       "..              ...             ...        ...      ...         ...   \n",
       "95           348560        543822.0        1.6       46         76%   \n",
       "96           348560        543822.0        1.6       46         76%   \n",
       "97           348560        543822.0        1.6       46         76%   \n",
       "98           348560        543822.0        1.6       46         76%   \n",
       "99           348560        543822.0        1.6       46         76%   \n",
       "\n",
       "   World Share  \n",
       "0        0.78%  \n",
       "1        0.78%  \n",
       "2        0.78%  \n",
       "3        0.78%  \n",
       "4        0.78%  \n",
       "..         ...  \n",
       "95       1.07%  \n",
       "96       1.07%  \n",
       "97       1.07%  \n",
       "98       1.07%  \n",
       "99       1.07%  \n",
       "\n",
       "[100 rows x 20 columns]"
      ]
     },
     "execution_count": 13,
     "metadata": {},
     "output_type": "execute_result"
    }
   ],
   "source": [
    "end_lang.head(100)"
   ]
  },
  {
   "cell_type": "code",
   "execution_count": 14,
   "metadata": {
    "slideshow": {
     "slide_type": "skip"
    }
   },
   "outputs": [
    {
     "data": {
      "text/plain": [
       "263"
      ]
     },
     "execution_count": 14,
     "metadata": {},
     "output_type": "execute_result"
    }
   ],
   "source": [
    "# Remove records where the number of speakers is not specified since we are not interested in those.\n",
    "# Number of records with null \"Number of speakers\"\n",
    "end_lang[end_lang['Number of speakers'].isnull()]['ID'].count()"
   ]
  },
  {
   "cell_type": "code",
   "execution_count": 15,
   "metadata": {
    "slideshow": {
     "slide_type": "skip"
    }
   },
   "outputs": [
    {
     "data": {
      "text/plain": [
       "0"
      ]
     },
     "execution_count": 15,
     "metadata": {},
     "output_type": "execute_result"
    }
   ],
   "source": [
    "end_lang = end_lang[end_lang['Number of speakers'].notnull()]\n",
    "# Verify all those records were removed\n",
    "end_lang[end_lang['Number of speakers'].isnull()]['ID'].count()"
   ]
  },
  {
   "cell_type": "code",
   "execution_count": 16,
   "metadata": {
    "slideshow": {
     "slide_type": "skip"
    }
   },
   "outputs": [
    {
     "data": {
      "text/html": [
       "<div>\n",
       "<style scoped>\n",
       "    .dataframe tbody tr th:only-of-type {\n",
       "        vertical-align: middle;\n",
       "    }\n",
       "\n",
       "    .dataframe tbody tr th {\n",
       "        vertical-align: top;\n",
       "    }\n",
       "\n",
       "    .dataframe thead th {\n",
       "        text-align: right;\n",
       "    }\n",
       "</style>\n",
       "<table border=\"1\" class=\"dataframe\">\n",
       "  <thead>\n",
       "    <tr style=\"text-align: right;\">\n",
       "      <th></th>\n",
       "      <th>ID</th>\n",
       "      <th>Name in English</th>\n",
       "      <th>Countries</th>\n",
       "      <th>Degree of endangerment</th>\n",
       "      <th>Number of speakers</th>\n",
       "      <th>Sources</th>\n",
       "      <th>Latitude</th>\n",
       "      <th>Longitude</th>\n",
       "      <th>Description of the location</th>\n",
       "      <th>Country (or dependency)</th>\n",
       "      <th>Country Population (2020)</th>\n",
       "      <th>Yearly Change</th>\n",
       "      <th>Net Change</th>\n",
       "      <th>Density (P/Km²)</th>\n",
       "      <th>Land Area (Km²)</th>\n",
       "      <th>Migrants (net)</th>\n",
       "      <th>Fert. Rate</th>\n",
       "      <th>Med. Age</th>\n",
       "      <th>Urban Pop %</th>\n",
       "      <th>World Share</th>\n",
       "    </tr>\n",
       "  </thead>\n",
       "  <tbody>\n",
       "    <tr>\n",
       "      <th>0</th>\n",
       "      <td>1022</td>\n",
       "      <td>South Italian</td>\n",
       "      <td>Italy</td>\n",
       "      <td>Vulnerable</td>\n",
       "      <td>7500000</td>\n",
       "      <td>NaN</td>\n",
       "      <td>40.9798</td>\n",
       "      <td>15.2490</td>\n",
       "      <td>Campania</td>\n",
       "      <td>Italy</td>\n",
       "      <td>60446035</td>\n",
       "      <td>-0.15%</td>\n",
       "      <td>-88249</td>\n",
       "      <td>206</td>\n",
       "      <td>294140</td>\n",
       "      <td>148943.0</td>\n",
       "      <td>1.3</td>\n",
       "      <td>47</td>\n",
       "      <td>69%</td>\n",
       "      <td>0.78%</td>\n",
       "    </tr>\n",
       "    <tr>\n",
       "      <th>1</th>\n",
       "      <td>1022</td>\n",
       "      <td>South Italian</td>\n",
       "      <td>Italy</td>\n",
       "      <td>Vulnerable</td>\n",
       "      <td>7500000</td>\n",
       "      <td>NaN</td>\n",
       "      <td>40.9798</td>\n",
       "      <td>15.2490</td>\n",
       "      <td>Lucania (Basilicata)</td>\n",
       "      <td>Italy</td>\n",
       "      <td>60446035</td>\n",
       "      <td>-0.15%</td>\n",
       "      <td>-88249</td>\n",
       "      <td>206</td>\n",
       "      <td>294140</td>\n",
       "      <td>148943.0</td>\n",
       "      <td>1.3</td>\n",
       "      <td>47</td>\n",
       "      <td>69%</td>\n",
       "      <td>0.78%</td>\n",
       "    </tr>\n",
       "    <tr>\n",
       "      <th>2</th>\n",
       "      <td>1022</td>\n",
       "      <td>South Italian</td>\n",
       "      <td>Italy</td>\n",
       "      <td>Vulnerable</td>\n",
       "      <td>7500000</td>\n",
       "      <td>NaN</td>\n",
       "      <td>40.9798</td>\n",
       "      <td>15.2490</td>\n",
       "      <td>Abruzzi (Abruzzo)</td>\n",
       "      <td>Italy</td>\n",
       "      <td>60446035</td>\n",
       "      <td>-0.15%</td>\n",
       "      <td>-88249</td>\n",
       "      <td>206</td>\n",
       "      <td>294140</td>\n",
       "      <td>148943.0</td>\n",
       "      <td>1.3</td>\n",
       "      <td>47</td>\n",
       "      <td>69%</td>\n",
       "      <td>0.78%</td>\n",
       "    </tr>\n",
       "    <tr>\n",
       "      <th>3</th>\n",
       "      <td>1022</td>\n",
       "      <td>South Italian</td>\n",
       "      <td>Italy</td>\n",
       "      <td>Vulnerable</td>\n",
       "      <td>7500000</td>\n",
       "      <td>NaN</td>\n",
       "      <td>40.9798</td>\n",
       "      <td>15.2490</td>\n",
       "      <td>Molise</td>\n",
       "      <td>Italy</td>\n",
       "      <td>60446035</td>\n",
       "      <td>-0.15%</td>\n",
       "      <td>-88249</td>\n",
       "      <td>206</td>\n",
       "      <td>294140</td>\n",
       "      <td>148943.0</td>\n",
       "      <td>1.3</td>\n",
       "      <td>47</td>\n",
       "      <td>69%</td>\n",
       "      <td>0.78%</td>\n",
       "    </tr>\n",
       "    <tr>\n",
       "      <th>4</th>\n",
       "      <td>1022</td>\n",
       "      <td>South Italian</td>\n",
       "      <td>Italy</td>\n",
       "      <td>Vulnerable</td>\n",
       "      <td>7500000</td>\n",
       "      <td>NaN</td>\n",
       "      <td>40.9798</td>\n",
       "      <td>15.2490</td>\n",
       "      <td>northern Calabria</td>\n",
       "      <td>Italy</td>\n",
       "      <td>60446035</td>\n",
       "      <td>-0.15%</td>\n",
       "      <td>-88249</td>\n",
       "      <td>206</td>\n",
       "      <td>294140</td>\n",
       "      <td>148943.0</td>\n",
       "      <td>1.3</td>\n",
       "      <td>47</td>\n",
       "      <td>69%</td>\n",
       "      <td>0.78%</td>\n",
       "    </tr>\n",
       "    <tr>\n",
       "      <th>...</th>\n",
       "      <td>...</td>\n",
       "      <td>...</td>\n",
       "      <td>...</td>\n",
       "      <td>...</td>\n",
       "      <td>...</td>\n",
       "      <td>...</td>\n",
       "      <td>...</td>\n",
       "      <td>...</td>\n",
       "      <td>...</td>\n",
       "      <td>...</td>\n",
       "      <td>...</td>\n",
       "      <td>...</td>\n",
       "      <td>...</td>\n",
       "      <td>...</td>\n",
       "      <td>...</td>\n",
       "      <td>...</td>\n",
       "      <td>...</td>\n",
       "      <td>...</td>\n",
       "      <td>...</td>\n",
       "      <td>...</td>\n",
       "    </tr>\n",
       "    <tr>\n",
       "      <th>4245</th>\n",
       "      <td>1315</td>\n",
       "      <td>Bom</td>\n",
       "      <td>Sierra Leone</td>\n",
       "      <td>Severely endangered</td>\n",
       "      <td>20</td>\n",
       "      <td>Tucker Childs</td>\n",
       "      <td>7.3188</td>\n",
       "      <td>-11.9915</td>\n",
       "      <td>NaN</td>\n",
       "      <td>Sierra Leone</td>\n",
       "      <td>8004158</td>\n",
       "      <td>2.10%</td>\n",
       "      <td>163768</td>\n",
       "      <td>111</td>\n",
       "      <td>72180</td>\n",
       "      <td>-4200.0</td>\n",
       "      <td>4.3</td>\n",
       "      <td>19</td>\n",
       "      <td>43%</td>\n",
       "      <td>0.10%</td>\n",
       "    </tr>\n",
       "    <tr>\n",
       "      <th>4246</th>\n",
       "      <td>1316</td>\n",
       "      <td>Kim</td>\n",
       "      <td>Sierra Leone</td>\n",
       "      <td>Critically endangered</td>\n",
       "      <td>20</td>\n",
       "      <td>Tucker Childs</td>\n",
       "      <td>7.2425</td>\n",
       "      <td>-11.9476</td>\n",
       "      <td>NaN</td>\n",
       "      <td>Sierra Leone</td>\n",
       "      <td>8004158</td>\n",
       "      <td>2.10%</td>\n",
       "      <td>163768</td>\n",
       "      <td>111</td>\n",
       "      <td>72180</td>\n",
       "      <td>-4200.0</td>\n",
       "      <td>4.3</td>\n",
       "      <td>19</td>\n",
       "      <td>43%</td>\n",
       "      <td>0.10%</td>\n",
       "    </tr>\n",
       "    <tr>\n",
       "      <th>4247</th>\n",
       "      <td>1295</td>\n",
       "      <td>Mo-peng</td>\n",
       "      <td>Sierra Leone</td>\n",
       "      <td>Extinct</td>\n",
       "      <td>0</td>\n",
       "      <td>Tucker Childs</td>\n",
       "      <td>7.4714</td>\n",
       "      <td>-12.2607</td>\n",
       "      <td>NaN</td>\n",
       "      <td>Sierra Leone</td>\n",
       "      <td>8004158</td>\n",
       "      <td>2.10%</td>\n",
       "      <td>163768</td>\n",
       "      <td>111</td>\n",
       "      <td>72180</td>\n",
       "      <td>-4200.0</td>\n",
       "      <td>4.3</td>\n",
       "      <td>19</td>\n",
       "      <td>43%</td>\n",
       "      <td>0.10%</td>\n",
       "    </tr>\n",
       "    <tr>\n",
       "      <th>4248</th>\n",
       "      <td>1314</td>\n",
       "      <td>Sei</td>\n",
       "      <td>Sierra Leone</td>\n",
       "      <td>Extinct</td>\n",
       "      <td>0</td>\n",
       "      <td>Tucker Childs</td>\n",
       "      <td>7.5857</td>\n",
       "      <td>-12.5354</td>\n",
       "      <td>NaN</td>\n",
       "      <td>Sierra Leone</td>\n",
       "      <td>8004158</td>\n",
       "      <td>2.10%</td>\n",
       "      <td>163768</td>\n",
       "      <td>111</td>\n",
       "      <td>72180</td>\n",
       "      <td>-4200.0</td>\n",
       "      <td>4.3</td>\n",
       "      <td>19</td>\n",
       "      <td>43%</td>\n",
       "      <td>0.10%</td>\n",
       "    </tr>\n",
       "    <tr>\n",
       "      <th>4249</th>\n",
       "      <td>298</td>\n",
       "      <td>Island Carib</td>\n",
       "      <td>Dominica</td>\n",
       "      <td>Extinct</td>\n",
       "      <td>0</td>\n",
       "      <td>NaN</td>\n",
       "      <td>15.4325</td>\n",
       "      <td>-61.2817</td>\n",
       "      <td>Carib Indian reservation on the eastern coast ...</td>\n",
       "      <td>Dominica</td>\n",
       "      <td>72017</td>\n",
       "      <td>0.25%</td>\n",
       "      <td>178</td>\n",
       "      <td>96</td>\n",
       "      <td>750</td>\n",
       "      <td>NaN</td>\n",
       "      <td>N.A.</td>\n",
       "      <td>N.A.</td>\n",
       "      <td>74%</td>\n",
       "      <td>0.00%</td>\n",
       "    </tr>\n",
       "  </tbody>\n",
       "</table>\n",
       "<p>3994 rows × 20 columns</p>\n",
       "</div>"
      ],
      "text/plain": [
       "        ID Name in English     Countries Degree of endangerment  \\\n",
       "0     1022   South Italian         Italy             Vulnerable   \n",
       "1     1022   South Italian         Italy             Vulnerable   \n",
       "2     1022   South Italian         Italy             Vulnerable   \n",
       "3     1022   South Italian         Italy             Vulnerable   \n",
       "4     1022   South Italian         Italy             Vulnerable   \n",
       "...    ...             ...           ...                    ...   \n",
       "4245  1315             Bom  Sierra Leone    Severely endangered   \n",
       "4246  1316             Kim  Sierra Leone  Critically endangered   \n",
       "4247  1295         Mo-peng  Sierra Leone                Extinct   \n",
       "4248  1314             Sei  Sierra Leone                Extinct   \n",
       "4249   298    Island Carib      Dominica                Extinct   \n",
       "\n",
       "      Number of speakers        Sources  Latitude  Longitude  \\\n",
       "0                7500000            NaN   40.9798    15.2490   \n",
       "1                7500000            NaN   40.9798    15.2490   \n",
       "2                7500000            NaN   40.9798    15.2490   \n",
       "3                7500000            NaN   40.9798    15.2490   \n",
       "4                7500000            NaN   40.9798    15.2490   \n",
       "...                  ...            ...       ...        ...   \n",
       "4245                  20  Tucker Childs    7.3188   -11.9915   \n",
       "4246                  20  Tucker Childs    7.2425   -11.9476   \n",
       "4247                   0  Tucker Childs    7.4714   -12.2607   \n",
       "4248                   0  Tucker Childs    7.5857   -12.5354   \n",
       "4249                   0            NaN   15.4325   -61.2817   \n",
       "\n",
       "                            Description of the location  \\\n",
       "0                                              Campania   \n",
       "1                                  Lucania (Basilicata)   \n",
       "2                                     Abruzzi (Abruzzo)   \n",
       "3                                                Molise   \n",
       "4                                     northern Calabria   \n",
       "...                                                 ...   \n",
       "4245                                                NaN   \n",
       "4246                                                NaN   \n",
       "4247                                                NaN   \n",
       "4248                                                NaN   \n",
       "4249  Carib Indian reservation on the eastern coast ...   \n",
       "\n",
       "     Country (or dependency)  Country Population (2020) Yearly Change  \\\n",
       "0                      Italy                   60446035        -0.15%   \n",
       "1                      Italy                   60446035        -0.15%   \n",
       "2                      Italy                   60446035        -0.15%   \n",
       "3                      Italy                   60446035        -0.15%   \n",
       "4                      Italy                   60446035        -0.15%   \n",
       "...                      ...                        ...           ...   \n",
       "4245            Sierra Leone                    8004158         2.10%   \n",
       "4246            Sierra Leone                    8004158         2.10%   \n",
       "4247            Sierra Leone                    8004158         2.10%   \n",
       "4248            Sierra Leone                    8004158         2.10%   \n",
       "4249                Dominica                      72017         0.25%   \n",
       "\n",
       "      Net Change  Density (P/Km²)  Land Area (Km²)  Migrants (net) Fert. Rate  \\\n",
       "0         -88249              206           294140        148943.0        1.3   \n",
       "1         -88249              206           294140        148943.0        1.3   \n",
       "2         -88249              206           294140        148943.0        1.3   \n",
       "3         -88249              206           294140        148943.0        1.3   \n",
       "4         -88249              206           294140        148943.0        1.3   \n",
       "...          ...              ...              ...             ...        ...   \n",
       "4245      163768              111            72180         -4200.0        4.3   \n",
       "4246      163768              111            72180         -4200.0        4.3   \n",
       "4247      163768              111            72180         -4200.0        4.3   \n",
       "4248      163768              111            72180         -4200.0        4.3   \n",
       "4249         178               96              750             NaN       N.A.   \n",
       "\n",
       "     Med. Age Urban Pop % World Share  \n",
       "0          47         69%       0.78%  \n",
       "1          47         69%       0.78%  \n",
       "2          47         69%       0.78%  \n",
       "3          47         69%       0.78%  \n",
       "4          47         69%       0.78%  \n",
       "...       ...         ...         ...  \n",
       "4245       19         43%       0.10%  \n",
       "4246       19         43%       0.10%  \n",
       "4247       19         43%       0.10%  \n",
       "4248       19         43%       0.10%  \n",
       "4249     N.A.         74%       0.00%  \n",
       "\n",
       "[3994 rows x 20 columns]"
      ]
     },
     "execution_count": 16,
     "metadata": {},
     "output_type": "execute_result"
    }
   ],
   "source": [
    "#Modify \"Number of speakers\" to integer\n",
    "end_lang.astype({'Number of speakers': 'int32'})"
   ]
  },
  {
   "cell_type": "code",
   "execution_count": 17,
   "metadata": {
    "slideshow": {
     "slide_type": "skip"
    }
   },
   "outputs": [
    {
     "name": "stdout",
     "output_type": "stream",
     "text": [
      "<class 'pandas.core.frame.DataFrame'>\n",
      "Int64Index: 3994 entries, 0 to 4249\n",
      "Data columns (total 20 columns):\n",
      " #   Column                       Non-Null Count  Dtype  \n",
      "---  ------                       --------------  -----  \n",
      " 0   ID                           3994 non-null   int64  \n",
      " 1   Name in English              3994 non-null   object \n",
      " 2   Countries                    3994 non-null   object \n",
      " 3   Degree of endangerment       3994 non-null   object \n",
      " 4   Number of speakers           3994 non-null   float64\n",
      " 5   Sources                      3110 non-null   object \n",
      " 6   Latitude                     3989 non-null   float64\n",
      " 7   Longitude                    3989 non-null   float64\n",
      " 8   Description of the location  3357 non-null   object \n",
      " 9   Country (or dependency)      3994 non-null   object \n",
      " 10  Country Population (2020)    3994 non-null   int64  \n",
      " 11  Yearly Change                3994 non-null   object \n",
      " 12  Net Change                   3994 non-null   int64  \n",
      " 13  Density (P/Km²)              3994 non-null   int64  \n",
      " 14  Land Area (Km²)              3994 non-null   int64  \n",
      " 15  Migrants (net)               3981 non-null   float64\n",
      " 16  Fert. Rate                   3994 non-null   object \n",
      " 17  Med. Age                     3994 non-null   object \n",
      " 18  Urban Pop %                  3994 non-null   object \n",
      " 19  World Share                  3994 non-null   object \n",
      "dtypes: float64(4), int64(5), object(11)\n",
      "memory usage: 655.3+ KB\n"
     ]
    }
   ],
   "source": [
    "end_lang.info()"
   ]
  },
  {
   "cell_type": "code",
   "execution_count": 18,
   "metadata": {
    "slideshow": {
     "slide_type": "skip"
    }
   },
   "outputs": [
    {
     "data": {
      "text/html": [
       "<div>\n",
       "<style scoped>\n",
       "    .dataframe tbody tr th:only-of-type {\n",
       "        vertical-align: middle;\n",
       "    }\n",
       "\n",
       "    .dataframe tbody tr th {\n",
       "        vertical-align: top;\n",
       "    }\n",
       "\n",
       "    .dataframe thead th {\n",
       "        text-align: right;\n",
       "    }\n",
       "</style>\n",
       "<table border=\"1\" class=\"dataframe\">\n",
       "  <thead>\n",
       "    <tr style=\"text-align: right;\">\n",
       "      <th></th>\n",
       "      <th>ID</th>\n",
       "      <th>Number of speakers</th>\n",
       "      <th>Latitude</th>\n",
       "      <th>Longitude</th>\n",
       "      <th>Country Population (2020)</th>\n",
       "      <th>Net Change</th>\n",
       "      <th>Density (P/Km²)</th>\n",
       "      <th>Land Area (Km²)</th>\n",
       "      <th>Migrants (net)</th>\n",
       "    </tr>\n",
       "  </thead>\n",
       "  <tbody>\n",
       "    <tr>\n",
       "      <th>count</th>\n",
       "      <td>3994.000000</td>\n",
       "      <td>3.994000e+03</td>\n",
       "      <td>3989.000000</td>\n",
       "      <td>3989.000000</td>\n",
       "      <td>3.994000e+03</td>\n",
       "      <td>3.994000e+03</td>\n",
       "      <td>3994.000000</td>\n",
       "      <td>3.994000e+03</td>\n",
       "      <td>3981.000000</td>\n",
       "    </tr>\n",
       "    <tr>\n",
       "      <th>mean</th>\n",
       "      <td>1335.530796</td>\n",
       "      <td>1.088145e+05</td>\n",
       "      <td>14.102519</td>\n",
       "      <td>19.337673</td>\n",
       "      <td>2.779428e+08</td>\n",
       "      <td>2.332879e+06</td>\n",
       "      <td>121.401602</td>\n",
       "      <td>2.566033e+06</td>\n",
       "      <td>-56711.102738</td>\n",
       "    </tr>\n",
       "    <tr>\n",
       "      <th>std</th>\n",
       "      <td>735.317411</td>\n",
       "      <td>4.749976e+05</td>\n",
       "      <td>21.332756</td>\n",
       "      <td>85.273909</td>\n",
       "      <td>4.783391e+08</td>\n",
       "      <td>3.919884e+06</td>\n",
       "      <td>147.785086</td>\n",
       "      <td>3.102428e+06</td>\n",
       "      <td>196690.930544</td>\n",
       "    </tr>\n",
       "    <tr>\n",
       "      <th>min</th>\n",
       "      <td>2.000000</td>\n",
       "      <td>0.000000e+00</td>\n",
       "      <td>-55.002800</td>\n",
       "      <td>-171.820600</td>\n",
       "      <td>1.360000e+03</td>\n",
       "      <td>-3.838400e+05</td>\n",
       "      <td>2.000000</td>\n",
       "      <td>1.000000e+01</td>\n",
       "      <td>-532687.000000</td>\n",
       "    </tr>\n",
       "    <tr>\n",
       "      <th>25%</th>\n",
       "      <td>718.000000</td>\n",
       "      <td>2.000000e+02</td>\n",
       "      <td>-3.184300</td>\n",
       "      <td>-69.500000</td>\n",
       "      <td>1.797138e+07</td>\n",
       "      <td>1.709150e+05</td>\n",
       "      <td>25.000000</td>\n",
       "      <td>3.095000e+05</td>\n",
       "      <td>-60000.000000</td>\n",
       "    </tr>\n",
       "    <tr>\n",
       "      <th>50%</th>\n",
       "      <td>1287.500000</td>\n",
       "      <td>2.100000e+03</td>\n",
       "      <td>15.691700</td>\n",
       "      <td>22.243100</td>\n",
       "      <td>5.097625e+07</td>\n",
       "      <td>6.550840e+05</td>\n",
       "      <td>66.000000</td>\n",
       "      <td>1.280000e+06</td>\n",
       "      <td>-800.000000</td>\n",
       "    </tr>\n",
       "    <tr>\n",
       "      <th>75%</th>\n",
       "      <td>1866.750000</td>\n",
       "      <td>2.861500e+04</td>\n",
       "      <td>27.926400</td>\n",
       "      <td>93.235400</td>\n",
       "      <td>2.128220e+08</td>\n",
       "      <td>1.509890e+06</td>\n",
       "      <td>153.000000</td>\n",
       "      <td>2.973190e+06</td>\n",
       "      <td>36400.000000</td>\n",
       "    </tr>\n",
       "    <tr>\n",
       "      <th>max</th>\n",
       "      <td>2722.000000</td>\n",
       "      <td>7.500000e+06</td>\n",
       "      <td>69.533300</td>\n",
       "      <td>179.187000</td>\n",
       "      <td>1.440298e+09</td>\n",
       "      <td>1.358663e+07</td>\n",
       "      <td>1265.000000</td>\n",
       "      <td>9.388211e+06</td>\n",
       "      <td>543822.000000</td>\n",
       "    </tr>\n",
       "  </tbody>\n",
       "</table>\n",
       "</div>"
      ],
      "text/plain": [
       "                ID  Number of speakers     Latitude    Longitude  \\\n",
       "count  3994.000000        3.994000e+03  3989.000000  3989.000000   \n",
       "mean   1335.530796        1.088145e+05    14.102519    19.337673   \n",
       "std     735.317411        4.749976e+05    21.332756    85.273909   \n",
       "min       2.000000        0.000000e+00   -55.002800  -171.820600   \n",
       "25%     718.000000        2.000000e+02    -3.184300   -69.500000   \n",
       "50%    1287.500000        2.100000e+03    15.691700    22.243100   \n",
       "75%    1866.750000        2.861500e+04    27.926400    93.235400   \n",
       "max    2722.000000        7.500000e+06    69.533300   179.187000   \n",
       "\n",
       "       Country Population (2020)    Net Change  Density (P/Km²)  \\\n",
       "count               3.994000e+03  3.994000e+03      3994.000000   \n",
       "mean                2.779428e+08  2.332879e+06       121.401602   \n",
       "std                 4.783391e+08  3.919884e+06       147.785086   \n",
       "min                 1.360000e+03 -3.838400e+05         2.000000   \n",
       "25%                 1.797138e+07  1.709150e+05        25.000000   \n",
       "50%                 5.097625e+07  6.550840e+05        66.000000   \n",
       "75%                 2.128220e+08  1.509890e+06       153.000000   \n",
       "max                 1.440298e+09  1.358663e+07      1265.000000   \n",
       "\n",
       "       Land Area (Km²)  Migrants (net)  \n",
       "count     3.994000e+03     3981.000000  \n",
       "mean      2.566033e+06   -56711.102738  \n",
       "std       3.102428e+06   196690.930544  \n",
       "min       1.000000e+01  -532687.000000  \n",
       "25%       3.095000e+05   -60000.000000  \n",
       "50%       1.280000e+06     -800.000000  \n",
       "75%       2.973190e+06    36400.000000  \n",
       "max       9.388211e+06   543822.000000  "
      ]
     },
     "execution_count": 18,
     "metadata": {},
     "output_type": "execute_result"
    }
   ],
   "source": [
    "end_lang.describe()"
   ]
  },
  {
   "cell_type": "markdown",
   "metadata": {
    "slideshow": {
     "slide_type": "slide"
    }
   },
   "source": [
    "### Dataset Structure\n",
    "\n",
    "There are 2722 different endangered languages in this dataset with 7 features (name, countries, degree of endangerment, # of speakers, sources, latitude, longitude, description of the location). There are both categorical and numerical variables with one key ordered variable, endangerment:\n",
    "\n",
    "Less Critical -> Most Critical\n",
    "* Vulnerable - most children speak the language, but it may be restricted to certain domains (e.g., home)\n",
    "* Definitely endangered - children no longer learn the language as a 'mother tongue' in the home\n",
    "* Severely endangered - language is spoken by grandparents and older generations; while the parent generation may understand it, they do not speak it to children or among themselves\n",
    "* Critically endangered - the youngest speakers are grandparents and older, and they speak the language partially and infrequently\n",
    "* Extinct - there are no speakers left"
   ]
  },
  {
   "cell_type": "markdown",
   "metadata": {
    "slideshow": {
     "slide_type": "slide"
    }
   },
   "source": [
    "### Points of interest\n",
    "\n",
    "The key areas of interest is the factors correlated to a languages degree of endangerment.\n",
    "\n",
    "I expect the countries population demographics, total number of remaining speakers along with the location to be the main factors correlated to a critically endangered language."
   ]
  },
  {
   "cell_type": "markdown",
   "metadata": {
    "slideshow": {
     "slide_type": "skip"
    }
   },
   "source": [
    "## Univariate Exploration\n",
    "\n",
    "Start with the distribution of # of speakers."
   ]
  },
  {
   "cell_type": "code",
   "execution_count": 19,
   "metadata": {
    "slideshow": {
     "slide_type": "skip"
    }
   },
   "outputs": [
    {
     "data": {
      "image/png": "[encoded data removed]",
      "text/plain": [
       "<Figure size 576x360 with 1 Axes>"
      ]
     },
     "metadata": {
      "needs_background": "light"
     },
     "output_type": "display_data"
    }
   ],
   "source": [
    "# First let's look at a standard histogram of the number of speakers variable.\n",
    "plt.figure(figsize=[8,5])\n",
    "plt.hist(data = end_lang, x = 'Number of speakers')\n",
    "plt.xlabel('Number of Speakers')\n",
    "plt.show()\n",
    "\n"
   ]
  },
  {
   "cell_type": "code",
   "execution_count": 20,
   "metadata": {
    "slideshow": {
     "slide_type": "skip"
    }
   },
   "outputs": [
    {
     "name": "stderr",
     "output_type": "stream",
     "text": [
      "C:\\Users\\JPSIMONS\\anaconda3\\lib\\site-packages\\pandas\\core\\series.py:726: RuntimeWarning: divide by zero encountered in log10\n",
      "  result = getattr(ufunc, method)(*inputs, **kwargs)\n"
     ]
    },
    {
     "data": {
      "text/plain": [
       "count    3.601408\n",
       "mean     5.036687\n",
       "std      5.676691\n",
       "min          -inf\n",
       "25%      2.301030\n",
       "50%      3.322219\n",
       "75%      4.456594\n",
       "max      6.875061\n",
       "Name: Number of speakers, dtype: float64"
      ]
     },
     "execution_count": 20,
     "metadata": {},
     "output_type": "execute_result"
    }
   ],
   "source": [
    "# Let's try a logarithmic distribution to see if we can get more insights\n",
    "np.log10(end_lang['Number of speakers'].describe())"
   ]
  },
  {
   "cell_type": "code",
   "execution_count": 21,
   "metadata": {
    "slideshow": {
     "slide_type": "skip"
    }
   },
   "outputs": [],
   "source": [
    "# There are some languages where the # of speakers = 0.\n",
    "# let's exclude them from the data set for now to see achieve a logarithmic distribution.\n",
    "# New dataset for non extinct languages.\n",
    "non_extinct = end_lang[end_lang['Number of speakers'] > 0]"
   ]
  },
  {
   "cell_type": "code",
   "execution_count": 22,
   "metadata": {
    "slideshow": {
     "slide_type": "skip"
    }
   },
   "outputs": [
    {
     "data": {
      "text/plain": [
       "count    3.574147\n",
       "mean     5.063948\n",
       "std      5.689586\n",
       "min      0.000000\n",
       "25%      2.544068\n",
       "50%      3.477121\n",
       "75%      4.477121\n",
       "max      6.875061\n",
       "Name: Number of speakers, dtype: float64"
      ]
     },
     "execution_count": 22,
     "metadata": {},
     "output_type": "execute_result"
    }
   ],
   "source": [
    "np.log10(non_extinct['Number of speakers'].describe())"
   ]
  },
  {
   "cell_type": "markdown",
   "metadata": {
    "slideshow": {
     "slide_type": "slide"
    }
   },
   "source": [
    "Here, you can see that most endangered languages have a range of 300 - 10,000 speakers."
   ]
  },
  {
   "cell_type": "code",
   "execution_count": 23,
   "metadata": {
    "slideshow": {
     "slide_type": "subslide"
    }
   },
   "outputs": [
    {
     "data": {
      "text/plain": [
       "Text(0, 0.5, 'Number of Endangered Languages')"
      ]
     },
     "execution_count": 23,
     "metadata": {},
     "output_type": "execute_result"
    },
    {
     "data": {
      "image/png": "[encoded data removed]",
      "text/plain": [
       "<Figure size 1080x360 with 1 Axes>"
      ]
     },
     "metadata": {
      "needs_background": "light"
     },
     "output_type": "display_data"
    }
   ],
   "source": [
    "# Set figure size\n",
    "plt.figure(figsize=[15,5])\n",
    "# Set bin size. The min is set to 0 since we don't need to take into account extinct languages\n",
    "bins = 10 ** np.arange(0, 7+0.1, 0.1)\n",
    "# Modify the ticks to make the x-axis more readable\n",
    "ticks = [0.1, 0.3, 1, 3, 10, 30, 100, 300, 1000,3000,10000,30000, 100000, 300000, 1000000, 3000000, 10000000]\n",
    "labels = ['{}'.format(v) for v in ticks]\n",
    "plt.hist(data = non_extinct, x = 'Number of speakers', bins=bins);\n",
    "# Apply  a logarithmic axis scale\n",
    "plt.xscale('log')\n",
    "# Apply the ticks we defined to our plot\n",
    "plt.xticks(ticks,labels);\n",
    "# Apply x-axis label\n",
    "plt.xlabel('Number of Speakers')\n",
    "plt.ylabel('Number of Endangered Languages')"
   ]
  },
  {
   "cell_type": "markdown",
   "metadata": {
    "slideshow": {
     "slide_type": "skip"
    }
   },
   "source": [
    "As you can see above, a standard plot was very right skewed so I opted to create a logarithmic distribution instead. You will notice that there were several languages (243) that had 0 speakers (i.e they were technically extinct). I removed these records since they would impact the logarithmic distribution. Once that was done, you can see that most endangered languages have a range of 300 - 10,000 speakers.\n"
   ]
  },
  {
   "cell_type": "code",
   "execution_count": 24,
   "metadata": {
    "slideshow": {
     "slide_type": "skip"
    }
   },
   "outputs": [
    {
     "data": {
      "text/plain": [
       "243"
      ]
     },
     "execution_count": 24,
     "metadata": {},
     "output_type": "execute_result"
    }
   ],
   "source": [
    "# Now let's go back and see how many were extinct\n",
    "end_lang[end_lang['Number of speakers'] == 0]['ID'].count()\n"
   ]
  },
  {
   "cell_type": "markdown",
   "metadata": {
    "slideshow": {
     "slide_type": "slide"
    }
   },
   "source": [
    "We can see the distribution of the languages in terms of their degree of criticality. All though the scenario is still grim, out of all the endangered languages the bulk of them are not critically endangered or extinct."
   ]
  },
  {
   "cell_type": "code",
   "execution_count": 25,
   "metadata": {
    "slideshow": {
     "slide_type": "subslide"
    }
   },
   "outputs": [
    {
     "data": {
      "text/plain": [
       "Text(0, 0.5, 'Number of Languages')"
      ]
     },
     "execution_count": 25,
     "metadata": {},
     "output_type": "execute_result"
    },
    {
     "data": {
      "image/png": "[encoded data removed]",
      "text/plain": [
       "<Figure size 864x576 with 1 Axes>"
      ]
     },
     "metadata": {
      "needs_background": "light"
     },
     "output_type": "display_data"
    }
   ],
   "source": [
    "# Plot a basic countplot for Degree of Endangerment\n",
    "plt.figure(figsize=[12,8])\n",
    "base_color = sb.color_palette()[0]\n",
    "sb.countplot(data=end_lang, x='Degree of endangerment', color=base_color, linewidth=False)\n",
    "plt.ylabel('Number of Languages')"
   ]
  },
  {
   "cell_type": "markdown",
   "metadata": {
    "slideshow": {
     "slide_type": "skip"
    }
   },
   "source": [
    "All though the scenario is still grim, out of all the endangered languages the bulk of them are not critically endangered or extinct.\n"
   ]
  },
  {
   "cell_type": "markdown",
   "metadata": {
    "slideshow": {
     "slide_type": "skip"
    }
   },
   "source": [
    "## Bivariate Exploration"
   ]
  },
  {
   "cell_type": "markdown",
   "metadata": {
    "slideshow": {
     "slide_type": "skip"
    }
   },
   "source": [
    "Now we want to determine any correlations between the degree of endangerment and number speakers."
   ]
  },
  {
   "cell_type": "code",
   "execution_count": 26,
   "metadata": {
    "slideshow": {
     "slide_type": "skip"
    }
   },
   "outputs": [
    {
     "data": {
      "text/plain": [
       "0                  Vulnerable\n",
       "1                  Vulnerable\n",
       "2                  Vulnerable\n",
       "3                  Vulnerable\n",
       "4                  Vulnerable\n",
       "                ...          \n",
       "4245      Severely endangered\n",
       "4246    Critically endangered\n",
       "4247                  Extinct\n",
       "4248                  Extinct\n",
       "4249                  Extinct\n",
       "Name: Degree of endangerment, Length: 3994, dtype: object"
      ]
     },
     "execution_count": 26,
     "metadata": {},
     "output_type": "execute_result"
    }
   ],
   "source": [
    "#Let's make the \"Degree of endangerment\" column categorical in order to for them to appear in degree of criticality\n",
    "end_lang['Degree of endangerment']\n"
   ]
  },
  {
   "cell_type": "code",
   "execution_count": 27,
   "metadata": {
    "slideshow": {
     "slide_type": "skip"
    }
   },
   "outputs": [],
   "source": [
    "end_cats = ['Vulnerable','Definitely endangered','Severely endangered','Critically endangered','Extinct']\n",
    "cat_type = CategoricalDtype(categories=end_cats, ordered=True)\n",
    "end_lang['Degree of endangerment'] = end_lang['Degree of endangerment'].astype(cat_type)"
   ]
  },
  {
   "cell_type": "code",
   "execution_count": 28,
   "metadata": {
    "slideshow": {
     "slide_type": "skip"
    }
   },
   "outputs": [
    {
     "data": {
      "text/plain": [
       "Text(0, 0.5, 'Number of Speakers')"
      ]
     },
     "execution_count": 28,
     "metadata": {},
     "output_type": "execute_result"
    },
    {
     "data": {
      "image/png": "[encoded data removed]",
      "text/plain": [
       "<Figure size 2160x720 with 2 Axes>"
      ]
     },
     "metadata": {
      "needs_background": "light"
     },
     "output_type": "display_data"
    }
   ],
   "source": [
    "# Plot scatter plot between Number of Speakers and Degree of endangerment\n",
    "plt.figure(figsize = [30,10])\n",
    "plt.subplot(1,2,1)\n",
    "plt.scatter(data = end_lang, x='Degree of endangerment', y='Number of speakers');\n",
    "plt.xlabel('Degree of Endangerment',fontsize=16);\n",
    "plt.ylabel('Number of Speakers',fontsize=16)\n",
    "\n",
    "plt.subplot(1,2,2)\n",
    "sb.stripplot(data = end_lang, x='Degree of endangerment', y='Number of speakers', jitter=0.3, alpha=0.25);\n",
    "plt.xlabel('Degree of Endangerment', fontsize=14)\n",
    "plt.ylabel('Number of Speakers',fontsize=14)\n"
   ]
  },
  {
   "cell_type": "markdown",
   "metadata": {
    "slideshow": {
     "slide_type": "skip"
    }
   },
   "source": [
    "Based on the graph on the left you would be inclined to think that for the first 3 degrees there are 1000s of speakers left but this is not the case. The graph on the left shows us the concentration of speakers is far below 1000 for all degrees (darker = more concentrated). Let's see how this looks once we zoom in a bit more. Let's try filtering outlanguages with more than 3000 speakers first."
   ]
  },
  {
   "cell_type": "markdown",
   "metadata": {
    "slideshow": {
     "slide_type": "slide"
    }
   },
   "source": [
    "Here we can see a bivariate scatterplot. As expected, the critically endangered languages for the most part, have very few speakers left (< 500), and the higher the degree of endangerment, the lower the amount of speakers left."
   ]
  },
  {
   "cell_type": "code",
   "execution_count": 29,
   "metadata": {
    "slideshow": {
     "slide_type": "subslide"
    }
   },
   "outputs": [
    {
     "data": {
      "text/plain": [
       "Text(0, 0.5, 'Number of Speakers')"
      ]
     },
     "execution_count": 29,
     "metadata": {},
     "output_type": "execute_result"
    },
    {
     "data": {
      "image/png": "[encoded data removed]",
      "text/plain": [
       "<Figure size 1080x720 with 1 Axes>"
      ]
     },
     "metadata": {
      "needs_background": "light"
     },
     "output_type": "display_data"
    }
   ],
   "source": [
    "# Filter out Number of Speakers > 3000 in order to zoom into the bulk of the distribution\n",
    "end_lang2 = end_lang[end_lang['Number of speakers'] < 3000]\n",
    "plt.figure(figsize = [15,10])\n",
    "sb.stripplot(data = end_lang2, x='Degree of endangerment', y='Number of speakers', jitter=0.3, alpha=0.25);\n",
    "plt.xlabel('Degree of Endangerment', fontsize=14)\n",
    "plt.ylabel('Number of Speakers',fontsize=14)"
   ]
  },
  {
   "cell_type": "markdown",
   "metadata": {
    "slideshow": {
     "slide_type": "skip"
    }
   },
   "source": [
    "Now we see a much better distribution! As expected, the critically endangered languages for the most part, have very few speakers left (< 500), and the higher the degree of endangerment, the lower the amount of speakers left."
   ]
  },
  {
   "cell_type": "markdown",
   "metadata": {
    "slideshow": {
     "slide_type": "skip"
    }
   },
   "source": [
    "## Multivariate Exploration\n",
    "\n",
    "Now let's see if we can bring the country/location into the picture to see if there is any correlation."
   ]
  },
  {
   "cell_type": "code",
   "execution_count": 30,
   "metadata": {
    "slideshow": {
     "slide_type": "skip"
    }
   },
   "outputs": [
    {
     "data": {
      "text/plain": [
       "<matplotlib.legend.Legend at 0x2178a9851c0>"
      ]
     },
     "execution_count": 30,
     "metadata": {},
     "output_type": "execute_result"
    },
    {
     "data": {
      "image/png": "[encoded data removed]",
      "text/plain": [
       "<Figure size 2160x1080 with 1 Axes>"
      ]
     },
     "metadata": {
      "needs_background": "light"
     },
     "output_type": "display_data"
    }
   ],
   "source": [
    "#plt.scatter(data = end_lang, x='Country_Population_(2020)', y='Number_of_speakers', s='Degree_of_endangerment')\n",
    "plt.figure(figsize = [30,15])\n",
    "ax = sb.barplot(data = end_lang, x = 'Countries', y = 'Number of speakers', hue = 'Degree of endangerment')\n",
    "ax.legend(loc = 8, ncol = 3, framealpha = 1, title = 'cat_var2')\n",
    "plt.xticks(rotation=90)\n",
    "plt.ylabel('Number of Speakers',fontsize=14)\n",
    "plt.xlabel('Countries', fontsize=14)\n",
    "plt.legend(loc='upper right')"
   ]
  },
  {
   "cell_type": "markdown",
   "metadata": {
    "slideshow": {
     "slide_type": "skip"
    }
   },
   "source": [
    "There are just too many countries for us to get a meaninful graph on the data. Let's look at the correlation between the countries population/number of endangered speakers and degree of endangerment. For readability purposes let's check the top 5 most/least populated countries to see if there is a correlation."
   ]
  },
  {
   "cell_type": "code",
   "execution_count": 31,
   "metadata": {
    "slideshow": {
     "slide_type": "skip"
    }
   },
   "outputs": [
    {
     "data": {
      "text/plain": [
       "2576     115434444\n",
       "3851     126407422\n",
       "1438     129166028\n",
       "1159     164972348\n",
       "2130     206984347\n",
       "2832     212821986\n",
       "2192     221612785\n",
       "3145     274021604\n",
       "322     1382345085\n",
       "1808    1440297825\n",
       "Name: Country Population (2020), dtype: int64"
      ]
     },
     "execution_count": 31,
     "metadata": {},
     "output_type": "execute_result"
    }
   ],
   "source": [
    "#Let's fetch the top 10 countries with the highest population.\n",
    "top_ten = end_lang.sort_values('Country Population (2020)').drop_duplicates('Country Population (2020)')['Country Population (2020)'].tail(10)\n",
    "top_ten"
   ]
  },
  {
   "cell_type": "code",
   "execution_count": 32,
   "metadata": {
    "slideshow": {
     "slide_type": "skip"
    }
   },
   "outputs": [
    {
     "data": {
      "text/html": [
       "<div>\n",
       "<style scoped>\n",
       "    .dataframe tbody tr th:only-of-type {\n",
       "        vertical-align: middle;\n",
       "    }\n",
       "\n",
       "    .dataframe tbody tr th {\n",
       "        vertical-align: top;\n",
       "    }\n",
       "\n",
       "    .dataframe thead th {\n",
       "        text-align: right;\n",
       "    }\n",
       "</style>\n",
       "<table border=\"1\" class=\"dataframe\">\n",
       "  <thead>\n",
       "    <tr style=\"text-align: right;\">\n",
       "      <th></th>\n",
       "      <th>ID</th>\n",
       "      <th>Name in English</th>\n",
       "      <th>Countries</th>\n",
       "      <th>Degree of endangerment</th>\n",
       "      <th>Number of speakers</th>\n",
       "      <th>Sources</th>\n",
       "      <th>Latitude</th>\n",
       "      <th>Longitude</th>\n",
       "      <th>Description of the location</th>\n",
       "      <th>Country (or dependency)</th>\n",
       "      <th>Country Population (2020)</th>\n",
       "      <th>Yearly Change</th>\n",
       "      <th>Net Change</th>\n",
       "      <th>Density (P/Km²)</th>\n",
       "      <th>Land Area (Km²)</th>\n",
       "      <th>Migrants (net)</th>\n",
       "      <th>Fert. Rate</th>\n",
       "      <th>Med. Age</th>\n",
       "      <th>Urban Pop %</th>\n",
       "      <th>World Share</th>\n",
       "    </tr>\n",
       "  </thead>\n",
       "  <tbody>\n",
       "    <tr>\n",
       "      <th>154</th>\n",
       "      <td>1586</td>\n",
       "      <td>Gondi</td>\n",
       "      <td>India</td>\n",
       "      <td>Vulnerable</td>\n",
       "      <td>2713790.0</td>\n",
       "      <td>NaN</td>\n",
       "      <td>19.5804</td>\n",
       "      <td>80.4418</td>\n",
       "      <td>Madhya Pradesh (Betul</td>\n",
       "      <td>India</td>\n",
       "      <td>1382345085</td>\n",
       "      <td>0.99%</td>\n",
       "      <td>13586631</td>\n",
       "      <td>464</td>\n",
       "      <td>2973190</td>\n",
       "      <td>-532687.0</td>\n",
       "      <td>2.2</td>\n",
       "      <td>28</td>\n",
       "      <td>35%</td>\n",
       "      <td>17.70%</td>\n",
       "    </tr>\n",
       "    <tr>\n",
       "      <th>155</th>\n",
       "      <td>1586</td>\n",
       "      <td>Gondi</td>\n",
       "      <td>India</td>\n",
       "      <td>Vulnerable</td>\n",
       "      <td>2713790.0</td>\n",
       "      <td>NaN</td>\n",
       "      <td>19.5804</td>\n",
       "      <td>80.4418</td>\n",
       "      <td>Chhindwara</td>\n",
       "      <td>India</td>\n",
       "      <td>1382345085</td>\n",
       "      <td>0.99%</td>\n",
       "      <td>13586631</td>\n",
       "      <td>464</td>\n",
       "      <td>2973190</td>\n",
       "      <td>-532687.0</td>\n",
       "      <td>2.2</td>\n",
       "      <td>28</td>\n",
       "      <td>35%</td>\n",
       "      <td>17.70%</td>\n",
       "    </tr>\n",
       "    <tr>\n",
       "      <th>156</th>\n",
       "      <td>1586</td>\n",
       "      <td>Gondi</td>\n",
       "      <td>India</td>\n",
       "      <td>Vulnerable</td>\n",
       "      <td>2713790.0</td>\n",
       "      <td>NaN</td>\n",
       "      <td>19.5804</td>\n",
       "      <td>80.4418</td>\n",
       "      <td>Seoni</td>\n",
       "      <td>India</td>\n",
       "      <td>1382345085</td>\n",
       "      <td>0.99%</td>\n",
       "      <td>13586631</td>\n",
       "      <td>464</td>\n",
       "      <td>2973190</td>\n",
       "      <td>-532687.0</td>\n",
       "      <td>2.2</td>\n",
       "      <td>28</td>\n",
       "      <td>35%</td>\n",
       "      <td>17.70%</td>\n",
       "    </tr>\n",
       "    <tr>\n",
       "      <th>157</th>\n",
       "      <td>1586</td>\n",
       "      <td>Gondi</td>\n",
       "      <td>India</td>\n",
       "      <td>Vulnerable</td>\n",
       "      <td>2713790.0</td>\n",
       "      <td>NaN</td>\n",
       "      <td>19.5804</td>\n",
       "      <td>80.4418</td>\n",
       "      <td>Mandla</td>\n",
       "      <td>India</td>\n",
       "      <td>1382345085</td>\n",
       "      <td>0.99%</td>\n",
       "      <td>13586631</td>\n",
       "      <td>464</td>\n",
       "      <td>2973190</td>\n",
       "      <td>-532687.0</td>\n",
       "      <td>2.2</td>\n",
       "      <td>28</td>\n",
       "      <td>35%</td>\n",
       "      <td>17.70%</td>\n",
       "    </tr>\n",
       "    <tr>\n",
       "      <th>158</th>\n",
       "      <td>1586</td>\n",
       "      <td>Gondi</td>\n",
       "      <td>India</td>\n",
       "      <td>Vulnerable</td>\n",
       "      <td>2713790.0</td>\n",
       "      <td>NaN</td>\n",
       "      <td>19.5804</td>\n",
       "      <td>80.4418</td>\n",
       "      <td>Balaghat)</td>\n",
       "      <td>India</td>\n",
       "      <td>1382345085</td>\n",
       "      <td>0.99%</td>\n",
       "      <td>13586631</td>\n",
       "      <td>464</td>\n",
       "      <td>2973190</td>\n",
       "      <td>-532687.0</td>\n",
       "      <td>2.2</td>\n",
       "      <td>28</td>\n",
       "      <td>35%</td>\n",
       "      <td>17.70%</td>\n",
       "    </tr>\n",
       "    <tr>\n",
       "      <th>...</th>\n",
       "      <td>...</td>\n",
       "      <td>...</td>\n",
       "      <td>...</td>\n",
       "      <td>...</td>\n",
       "      <td>...</td>\n",
       "      <td>...</td>\n",
       "      <td>...</td>\n",
       "      <td>...</td>\n",
       "      <td>...</td>\n",
       "      <td>...</td>\n",
       "      <td>...</td>\n",
       "      <td>...</td>\n",
       "      <td>...</td>\n",
       "      <td>...</td>\n",
       "      <td>...</td>\n",
       "      <td>...</td>\n",
       "      <td>...</td>\n",
       "      <td>...</td>\n",
       "      <td>...</td>\n",
       "      <td>...</td>\n",
       "    </tr>\n",
       "    <tr>\n",
       "      <th>3300</th>\n",
       "      <td>2612</td>\n",
       "      <td>Te'un (Te'un Island)</td>\n",
       "      <td>Indonesia</td>\n",
       "      <td>Extinct</td>\n",
       "      <td>0.0</td>\n",
       "      <td>Wurm, Stephen A. 2007. 'Australia and the Paci...</td>\n",
       "      <td>-6.9809</td>\n",
       "      <td>129.1394</td>\n",
       "      <td>from Te'un Island</td>\n",
       "      <td>Indonesia</td>\n",
       "      <td>274021604</td>\n",
       "      <td>1.07%</td>\n",
       "      <td>2898047</td>\n",
       "      <td>151</td>\n",
       "      <td>1811570</td>\n",
       "      <td>-98955.0</td>\n",
       "      <td>2.3</td>\n",
       "      <td>30</td>\n",
       "      <td>56%</td>\n",
       "      <td>3.51%</td>\n",
       "    </tr>\n",
       "    <tr>\n",
       "      <th>3301</th>\n",
       "      <td>2612</td>\n",
       "      <td>Te'un (Te'un Island)</td>\n",
       "      <td>Indonesia</td>\n",
       "      <td>Extinct</td>\n",
       "      <td>0.0</td>\n",
       "      <td>Wurm, Stephen A. 2007. 'Australia and the Paci...</td>\n",
       "      <td>-6.9809</td>\n",
       "      <td>129.1394</td>\n",
       "      <td>South Maluku</td>\n",
       "      <td>Indonesia</td>\n",
       "      <td>274021604</td>\n",
       "      <td>1.07%</td>\n",
       "      <td>2898047</td>\n",
       "      <td>151</td>\n",
       "      <td>1811570</td>\n",
       "      <td>-98955.0</td>\n",
       "      <td>2.3</td>\n",
       "      <td>30</td>\n",
       "      <td>56%</td>\n",
       "      <td>3.51%</td>\n",
       "    </tr>\n",
       "    <tr>\n",
       "      <th>3302</th>\n",
       "      <td>2612</td>\n",
       "      <td>Te'un (Te'un Island)</td>\n",
       "      <td>Indonesia</td>\n",
       "      <td>Extinct</td>\n",
       "      <td>0.0</td>\n",
       "      <td>Wurm, Stephen A. 2007. 'Australia and the Paci...</td>\n",
       "      <td>-6.9809</td>\n",
       "      <td>129.1394</td>\n",
       "      <td>because of volcanic activities</td>\n",
       "      <td>Indonesia</td>\n",
       "      <td>274021604</td>\n",
       "      <td>1.07%</td>\n",
       "      <td>2898047</td>\n",
       "      <td>151</td>\n",
       "      <td>1811570</td>\n",
       "      <td>-98955.0</td>\n",
       "      <td>2.3</td>\n",
       "      <td>30</td>\n",
       "      <td>56%</td>\n",
       "      <td>3.51%</td>\n",
       "    </tr>\n",
       "    <tr>\n",
       "      <th>3851</th>\n",
       "      <td>1980</td>\n",
       "      <td>Hachijō</td>\n",
       "      <td>Japan</td>\n",
       "      <td>Definitely endangered</td>\n",
       "      <td>8000.0</td>\n",
       "      <td>Akihiro Kaneda: The tense-aspect system and ev...</td>\n",
       "      <td>33.1100</td>\n",
       "      <td>139.7891</td>\n",
       "      <td>the Hachijō and Aogashima Islands of the Izu A...</td>\n",
       "      <td>Japan</td>\n",
       "      <td>126407422</td>\n",
       "      <td>-0.30%</td>\n",
       "      <td>-383840</td>\n",
       "      <td>347</td>\n",
       "      <td>364555</td>\n",
       "      <td>71560.0</td>\n",
       "      <td>1.4</td>\n",
       "      <td>48</td>\n",
       "      <td>92%</td>\n",
       "      <td>1.62%</td>\n",
       "    </tr>\n",
       "    <tr>\n",
       "      <th>3852</th>\n",
       "      <td>475</td>\n",
       "      <td>Ainu (Hokkaido)</td>\n",
       "      <td>Japan</td>\n",
       "      <td>Critically endangered</td>\n",
       "      <td>15.0</td>\n",
       "      <td>NaN</td>\n",
       "      <td>43.2612</td>\n",
       "      <td>142.8222</td>\n",
       "      <td>the island of Hokkaido</td>\n",
       "      <td>Japan</td>\n",
       "      <td>126407422</td>\n",
       "      <td>-0.30%</td>\n",
       "      <td>-383840</td>\n",
       "      <td>347</td>\n",
       "      <td>364555</td>\n",
       "      <td>71560.0</td>\n",
       "      <td>1.4</td>\n",
       "      <td>48</td>\n",
       "      <td>92%</td>\n",
       "      <td>1.62%</td>\n",
       "    </tr>\n",
       "  </tbody>\n",
       "</table>\n",
       "<p>1695 rows × 20 columns</p>\n",
       "</div>"
      ],
      "text/plain": [
       "        ID       Name in English  Countries Degree of endangerment  \\\n",
       "154   1586                 Gondi      India             Vulnerable   \n",
       "155   1586                 Gondi      India             Vulnerable   \n",
       "156   1586                 Gondi      India             Vulnerable   \n",
       "157   1586                 Gondi      India             Vulnerable   \n",
       "158   1586                 Gondi      India             Vulnerable   \n",
       "...    ...                   ...        ...                    ...   \n",
       "3300  2612  Te'un (Te'un Island)  Indonesia                Extinct   \n",
       "3301  2612  Te'un (Te'un Island)  Indonesia                Extinct   \n",
       "3302  2612  Te'un (Te'un Island)  Indonesia                Extinct   \n",
       "3851  1980               Hachijō      Japan  Definitely endangered   \n",
       "3852   475       Ainu (Hokkaido)      Japan  Critically endangered   \n",
       "\n",
       "      Number of speakers                                            Sources  \\\n",
       "154            2713790.0                                                NaN   \n",
       "155            2713790.0                                                NaN   \n",
       "156            2713790.0                                                NaN   \n",
       "157            2713790.0                                                NaN   \n",
       "158            2713790.0                                                NaN   \n",
       "...                  ...                                                ...   \n",
       "3300                 0.0  Wurm, Stephen A. 2007. 'Australia and the Paci...   \n",
       "3301                 0.0  Wurm, Stephen A. 2007. 'Australia and the Paci...   \n",
       "3302                 0.0  Wurm, Stephen A. 2007. 'Australia and the Paci...   \n",
       "3851              8000.0  Akihiro Kaneda: The tense-aspect system and ev...   \n",
       "3852                15.0                                                NaN   \n",
       "\n",
       "      Latitude  Longitude                        Description of the location  \\\n",
       "154    19.5804    80.4418                              Madhya Pradesh (Betul   \n",
       "155    19.5804    80.4418                                         Chhindwara   \n",
       "156    19.5804    80.4418                                              Seoni   \n",
       "157    19.5804    80.4418                                             Mandla   \n",
       "158    19.5804    80.4418                                          Balaghat)   \n",
       "...        ...        ...                                                ...   \n",
       "3300   -6.9809   129.1394                                  from Te'un Island   \n",
       "3301   -6.9809   129.1394                                       South Maluku   \n",
       "3302   -6.9809   129.1394                     because of volcanic activities   \n",
       "3851   33.1100   139.7891  the Hachijō and Aogashima Islands of the Izu A...   \n",
       "3852   43.2612   142.8222                             the island of Hokkaido   \n",
       "\n",
       "     Country (or dependency)  Country Population (2020) Yearly Change  \\\n",
       "154                    India                 1382345085         0.99%   \n",
       "155                    India                 1382345085         0.99%   \n",
       "156                    India                 1382345085         0.99%   \n",
       "157                    India                 1382345085         0.99%   \n",
       "158                    India                 1382345085         0.99%   \n",
       "...                      ...                        ...           ...   \n",
       "3300               Indonesia                  274021604         1.07%   \n",
       "3301               Indonesia                  274021604         1.07%   \n",
       "3302               Indonesia                  274021604         1.07%   \n",
       "3851                   Japan                  126407422        -0.30%   \n",
       "3852                   Japan                  126407422        -0.30%   \n",
       "\n",
       "      Net Change  Density (P/Km²)  Land Area (Km²)  Migrants (net) Fert. Rate  \\\n",
       "154     13586631              464          2973190       -532687.0        2.2   \n",
       "155     13586631              464          2973190       -532687.0        2.2   \n",
       "156     13586631              464          2973190       -532687.0        2.2   \n",
       "157     13586631              464          2973190       -532687.0        2.2   \n",
       "158     13586631              464          2973190       -532687.0        2.2   \n",
       "...          ...              ...              ...             ...        ...   \n",
       "3300     2898047              151          1811570        -98955.0        2.3   \n",
       "3301     2898047              151          1811570        -98955.0        2.3   \n",
       "3302     2898047              151          1811570        -98955.0        2.3   \n",
       "3851     -383840              347           364555         71560.0        1.4   \n",
       "3852     -383840              347           364555         71560.0        1.4   \n",
       "\n",
       "     Med. Age Urban Pop % World Share  \n",
       "154        28         35%      17.70%  \n",
       "155        28         35%      17.70%  \n",
       "156        28         35%      17.70%  \n",
       "157        28         35%      17.70%  \n",
       "158        28         35%      17.70%  \n",
       "...       ...         ...         ...  \n",
       "3300       30         56%       3.51%  \n",
       "3301       30         56%       3.51%  \n",
       "3302       30         56%       3.51%  \n",
       "3851       48         92%       1.62%  \n",
       "3852       48         92%       1.62%  \n",
       "\n",
       "[1695 rows x 20 columns]"
      ]
     },
     "execution_count": 32,
     "metadata": {},
     "output_type": "execute_result"
    }
   ],
   "source": [
    "top_ten_df = end_lang[end_lang['Country Population (2020)'].isin(top_ten)]\n",
    "top_ten_df"
   ]
  },
  {
   "cell_type": "code",
   "execution_count": 33,
   "metadata": {
    "slideshow": {
     "slide_type": "skip"
    }
   },
   "outputs": [
    {
     "data": {
      "text/plain": [
       "3914      1360\n",
       "3588      1628\n",
       "3875     10836\n",
       "3603     11817\n",
       "2687     17567\n",
       "4214     18109\n",
       "4249     72017\n",
       "4162    308337\n",
       "3575    398845\n",
       "4124    587541\n",
       "Name: Country Population (2020), dtype: int64"
      ]
     },
     "execution_count": 33,
     "metadata": {},
     "output_type": "execute_result"
    }
   ],
   "source": [
    "# Let's fetch the 10 countries with the least population in the world.\n",
    "bottom_ten = end_lang.sort_values('Country Population (2020)').drop_duplicates('Country Population (2020)')['Country Population (2020)'].head(10)\n",
    "bottom_ten"
   ]
  },
  {
   "cell_type": "code",
   "execution_count": 34,
   "metadata": {
    "slideshow": {
     "slide_type": "skip"
    }
   },
   "outputs": [
    {
     "data": {
      "text/html": [
       "<div>\n",
       "<style scoped>\n",
       "    .dataframe tbody tr th:only-of-type {\n",
       "        vertical-align: middle;\n",
       "    }\n",
       "\n",
       "    .dataframe tbody tr th {\n",
       "        vertical-align: top;\n",
       "    }\n",
       "\n",
       "    .dataframe thead th {\n",
       "        text-align: right;\n",
       "    }\n",
       "</style>\n",
       "<table border=\"1\" class=\"dataframe\">\n",
       "  <thead>\n",
       "    <tr style=\"text-align: right;\">\n",
       "      <th></th>\n",
       "      <th>ID</th>\n",
       "      <th>Name in English</th>\n",
       "      <th>Countries</th>\n",
       "      <th>Degree of endangerment</th>\n",
       "      <th>Number of speakers</th>\n",
       "      <th>Sources</th>\n",
       "      <th>Latitude</th>\n",
       "      <th>Longitude</th>\n",
       "      <th>Description of the location</th>\n",
       "      <th>Country (or dependency)</th>\n",
       "      <th>Country Population (2020)</th>\n",
       "      <th>Yearly Change</th>\n",
       "      <th>Net Change</th>\n",
       "      <th>Density (P/Km²)</th>\n",
       "      <th>Land Area (Km²)</th>\n",
       "      <th>Migrants (net)</th>\n",
       "      <th>Fert. Rate</th>\n",
       "      <th>Med. Age</th>\n",
       "      <th>Urban Pop %</th>\n",
       "      <th>World Share</th>\n",
       "    </tr>\n",
       "  </thead>\n",
       "  <tbody>\n",
       "    <tr>\n",
       "      <th>2683</th>\n",
       "      <td>704</td>\n",
       "      <td>Rarotongan</td>\n",
       "      <td>Cook Islands</td>\n",
       "      <td>Vulnerable</td>\n",
       "      <td>43000.0</td>\n",
       "      <td>Grimes 2000</td>\n",
       "      <td>-21.2343</td>\n",
       "      <td>-159.7837</td>\n",
       "      <td>16800 in Cook Islands</td>\n",
       "      <td>Cook Islands</td>\n",
       "      <td>17567</td>\n",
       "      <td>0.09%</td>\n",
       "      <td>16</td>\n",
       "      <td>73</td>\n",
       "      <td>240</td>\n",
       "      <td>NaN</td>\n",
       "      <td>N.A.</td>\n",
       "      <td>N.A.</td>\n",
       "      <td>75%</td>\n",
       "      <td>0.00%</td>\n",
       "    </tr>\n",
       "    <tr>\n",
       "      <th>2684</th>\n",
       "      <td>704</td>\n",
       "      <td>Rarotongan</td>\n",
       "      <td>Cook Islands</td>\n",
       "      <td>Vulnerable</td>\n",
       "      <td>43000.0</td>\n",
       "      <td>Grimes 2000</td>\n",
       "      <td>-21.2343</td>\n",
       "      <td>-159.7837</td>\n",
       "      <td>remainder mainly in New Zealand</td>\n",
       "      <td>Cook Islands</td>\n",
       "      <td>17567</td>\n",
       "      <td>0.09%</td>\n",
       "      <td>16</td>\n",
       "      <td>73</td>\n",
       "      <td>240</td>\n",
       "      <td>NaN</td>\n",
       "      <td>N.A.</td>\n",
       "      <td>N.A.</td>\n",
       "      <td>75%</td>\n",
       "      <td>0.00%</td>\n",
       "    </tr>\n",
       "    <tr>\n",
       "      <th>2685</th>\n",
       "      <td>709</td>\n",
       "      <td>Manihiki</td>\n",
       "      <td>Cook Islands</td>\n",
       "      <td>Definitely endangered</td>\n",
       "      <td>5000.0</td>\n",
       "      <td>Grimes 2000</td>\n",
       "      <td>-10.4000</td>\n",
       "      <td>-161.0000</td>\n",
       "      <td>Rakahanga and Manihiki Islands</td>\n",
       "      <td>Cook Islands</td>\n",
       "      <td>17567</td>\n",
       "      <td>0.09%</td>\n",
       "      <td>16</td>\n",
       "      <td>73</td>\n",
       "      <td>240</td>\n",
       "      <td>NaN</td>\n",
       "      <td>N.A.</td>\n",
       "      <td>N.A.</td>\n",
       "      <td>75%</td>\n",
       "      <td>0.00%</td>\n",
       "    </tr>\n",
       "    <tr>\n",
       "      <th>2686</th>\n",
       "      <td>710</td>\n",
       "      <td>Pukapukan</td>\n",
       "      <td>Cook Islands</td>\n",
       "      <td>Definitely endangered</td>\n",
       "      <td>840.0</td>\n",
       "      <td>Grimes 2000</td>\n",
       "      <td>-10.8710</td>\n",
       "      <td>-165.8441</td>\n",
       "      <td>Pukapuka and Nasau Islands</td>\n",
       "      <td>Cook Islands</td>\n",
       "      <td>17567</td>\n",
       "      <td>0.09%</td>\n",
       "      <td>16</td>\n",
       "      <td>73</td>\n",
       "      <td>240</td>\n",
       "      <td>NaN</td>\n",
       "      <td>N.A.</td>\n",
       "      <td>N.A.</td>\n",
       "      <td>75%</td>\n",
       "      <td>0.00%</td>\n",
       "    </tr>\n",
       "    <tr>\n",
       "      <th>2687</th>\n",
       "      <td>2623</td>\n",
       "      <td>Penrhyn</td>\n",
       "      <td>Cook Islands</td>\n",
       "      <td>Severely endangered</td>\n",
       "      <td>600.0</td>\n",
       "      <td>Wurm, Stephen A. 2007. 'Australia and the Paci...</td>\n",
       "      <td>-9.0153</td>\n",
       "      <td>-158.0218</td>\n",
       "      <td>Penrhyn Island</td>\n",
       "      <td>Cook Islands</td>\n",
       "      <td>17567</td>\n",
       "      <td>0.09%</td>\n",
       "      <td>16</td>\n",
       "      <td>73</td>\n",
       "      <td>240</td>\n",
       "      <td>NaN</td>\n",
       "      <td>N.A.</td>\n",
       "      <td>N.A.</td>\n",
       "      <td>75%</td>\n",
       "      <td>0.00%</td>\n",
       "    </tr>\n",
       "    <tr>\n",
       "      <th>...</th>\n",
       "      <td>...</td>\n",
       "      <td>...</td>\n",
       "      <td>...</td>\n",
       "      <td>...</td>\n",
       "      <td>...</td>\n",
       "      <td>...</td>\n",
       "      <td>...</td>\n",
       "      <td>...</td>\n",
       "      <td>...</td>\n",
       "      <td>...</td>\n",
       "      <td>...</td>\n",
       "      <td>...</td>\n",
       "      <td>...</td>\n",
       "      <td>...</td>\n",
       "      <td>...</td>\n",
       "      <td>...</td>\n",
       "      <td>...</td>\n",
       "      <td>...</td>\n",
       "      <td>...</td>\n",
       "      <td>...</td>\n",
       "    </tr>\n",
       "    <tr>\n",
       "      <th>4212</th>\n",
       "      <td>2642</td>\n",
       "      <td>Ifo</td>\n",
       "      <td>Vanuatu</td>\n",
       "      <td>Extinct</td>\n",
       "      <td>0.0</td>\n",
       "      <td>Wurm, Stephen A. 2007. 'Australia and the Paci...</td>\n",
       "      <td>-18.6605</td>\n",
       "      <td>169.1434</td>\n",
       "      <td>Northeastern Erromanga Island</td>\n",
       "      <td>Vanuatu</td>\n",
       "      <td>308337</td>\n",
       "      <td>2.42%</td>\n",
       "      <td>7263</td>\n",
       "      <td>25</td>\n",
       "      <td>12190</td>\n",
       "      <td>120.0</td>\n",
       "      <td>3.8</td>\n",
       "      <td>21</td>\n",
       "      <td>24%</td>\n",
       "      <td>0.00%</td>\n",
       "    </tr>\n",
       "    <tr>\n",
       "      <th>4213</th>\n",
       "      <td>2647</td>\n",
       "      <td>Maragus</td>\n",
       "      <td>Vanuatu</td>\n",
       "      <td>Extinct</td>\n",
       "      <td>0.0</td>\n",
       "      <td>Wurm, Stephen A. 2007. 'Australia and the Paci...</td>\n",
       "      <td>-16.0405</td>\n",
       "      <td>167.2778</td>\n",
       "      <td>Central North Malekula Island</td>\n",
       "      <td>Vanuatu</td>\n",
       "      <td>308337</td>\n",
       "      <td>2.42%</td>\n",
       "      <td>7263</td>\n",
       "      <td>25</td>\n",
       "      <td>12190</td>\n",
       "      <td>120.0</td>\n",
       "      <td>3.8</td>\n",
       "      <td>21</td>\n",
       "      <td>24%</td>\n",
       "      <td>0.00%</td>\n",
       "    </tr>\n",
       "    <tr>\n",
       "      <th>4214</th>\n",
       "      <td>716</td>\n",
       "      <td>Sonsorol</td>\n",
       "      <td>Palau</td>\n",
       "      <td>Severely endangered</td>\n",
       "      <td>600.0</td>\n",
       "      <td>Grimes 2000</td>\n",
       "      <td>7.4278</td>\n",
       "      <td>134.5495</td>\n",
       "      <td>Palau Islands</td>\n",
       "      <td>Palau</td>\n",
       "      <td>18109</td>\n",
       "      <td>0.48%</td>\n",
       "      <td>86</td>\n",
       "      <td>39</td>\n",
       "      <td>460</td>\n",
       "      <td>NaN</td>\n",
       "      <td>N.A.</td>\n",
       "      <td>N.A.</td>\n",
       "      <td>N.A.</td>\n",
       "      <td>0.00%</td>\n",
       "    </tr>\n",
       "    <tr>\n",
       "      <th>4215</th>\n",
       "      <td>2263</td>\n",
       "      <td>Tobian</td>\n",
       "      <td>Palau</td>\n",
       "      <td>Critically endangered</td>\n",
       "      <td>22.0</td>\n",
       "      <td>Grimes 2000</td>\n",
       "      <td>2.9594</td>\n",
       "      <td>131.8084</td>\n",
       "      <td>Tabi (Hatobohei) Island</td>\n",
       "      <td>Palau</td>\n",
       "      <td>18109</td>\n",
       "      <td>0.48%</td>\n",
       "      <td>86</td>\n",
       "      <td>39</td>\n",
       "      <td>460</td>\n",
       "      <td>NaN</td>\n",
       "      <td>N.A.</td>\n",
       "      <td>N.A.</td>\n",
       "      <td>N.A.</td>\n",
       "      <td>0.00%</td>\n",
       "    </tr>\n",
       "    <tr>\n",
       "      <th>4249</th>\n",
       "      <td>298</td>\n",
       "      <td>Island Carib</td>\n",
       "      <td>Dominica</td>\n",
       "      <td>Extinct</td>\n",
       "      <td>0.0</td>\n",
       "      <td>NaN</td>\n",
       "      <td>15.4325</td>\n",
       "      <td>-61.2817</td>\n",
       "      <td>Carib Indian reservation on the eastern coast ...</td>\n",
       "      <td>Dominica</td>\n",
       "      <td>72017</td>\n",
       "      <td>0.25%</td>\n",
       "      <td>178</td>\n",
       "      <td>96</td>\n",
       "      <td>750</td>\n",
       "      <td>NaN</td>\n",
       "      <td>N.A.</td>\n",
       "      <td>N.A.</td>\n",
       "      <td>74%</td>\n",
       "      <td>0.00%</td>\n",
       "    </tr>\n",
       "  </tbody>\n",
       "</table>\n",
       "<p>90 rows × 20 columns</p>\n",
       "</div>"
      ],
      "text/plain": [
       "        ID Name in English     Countries Degree of endangerment  \\\n",
       "2683   704      Rarotongan  Cook Islands             Vulnerable   \n",
       "2684   704      Rarotongan  Cook Islands             Vulnerable   \n",
       "2685   709        Manihiki  Cook Islands  Definitely endangered   \n",
       "2686   710       Pukapukan  Cook Islands  Definitely endangered   \n",
       "2687  2623         Penrhyn  Cook Islands    Severely endangered   \n",
       "...    ...             ...           ...                    ...   \n",
       "4212  2642             Ifo       Vanuatu                Extinct   \n",
       "4213  2647         Maragus       Vanuatu                Extinct   \n",
       "4214   716        Sonsorol         Palau    Severely endangered   \n",
       "4215  2263          Tobian         Palau  Critically endangered   \n",
       "4249   298    Island Carib      Dominica                Extinct   \n",
       "\n",
       "      Number of speakers                                            Sources  \\\n",
       "2683             43000.0                                        Grimes 2000   \n",
       "2684             43000.0                                        Grimes 2000   \n",
       "2685              5000.0                                        Grimes 2000   \n",
       "2686               840.0                                        Grimes 2000   \n",
       "2687               600.0  Wurm, Stephen A. 2007. 'Australia and the Paci...   \n",
       "...                  ...                                                ...   \n",
       "4212                 0.0  Wurm, Stephen A. 2007. 'Australia and the Paci...   \n",
       "4213                 0.0  Wurm, Stephen A. 2007. 'Australia and the Paci...   \n",
       "4214               600.0                                        Grimes 2000   \n",
       "4215                22.0                                        Grimes 2000   \n",
       "4249                 0.0                                                NaN   \n",
       "\n",
       "      Latitude  Longitude                        Description of the location  \\\n",
       "2683  -21.2343  -159.7837                              16800 in Cook Islands   \n",
       "2684  -21.2343  -159.7837                    remainder mainly in New Zealand   \n",
       "2685  -10.4000  -161.0000                     Rakahanga and Manihiki Islands   \n",
       "2686  -10.8710  -165.8441                         Pukapuka and Nasau Islands   \n",
       "2687   -9.0153  -158.0218                                     Penrhyn Island   \n",
       "...        ...        ...                                                ...   \n",
       "4212  -18.6605   169.1434                      Northeastern Erromanga Island   \n",
       "4213  -16.0405   167.2778                      Central North Malekula Island   \n",
       "4214    7.4278   134.5495                                      Palau Islands   \n",
       "4215    2.9594   131.8084                            Tabi (Hatobohei) Island   \n",
       "4249   15.4325   -61.2817  Carib Indian reservation on the eastern coast ...   \n",
       "\n",
       "     Country (or dependency)  Country Population (2020) Yearly Change  \\\n",
       "2683            Cook Islands                      17567         0.09%   \n",
       "2684            Cook Islands                      17567         0.09%   \n",
       "2685            Cook Islands                      17567         0.09%   \n",
       "2686            Cook Islands                      17567         0.09%   \n",
       "2687            Cook Islands                      17567         0.09%   \n",
       "...                      ...                        ...           ...   \n",
       "4212                 Vanuatu                     308337         2.42%   \n",
       "4213                 Vanuatu                     308337         2.42%   \n",
       "4214                   Palau                      18109         0.48%   \n",
       "4215                   Palau                      18109         0.48%   \n",
       "4249                Dominica                      72017         0.25%   \n",
       "\n",
       "      Net Change  Density (P/Km²)  Land Area (Km²)  Migrants (net) Fert. Rate  \\\n",
       "2683          16               73              240             NaN       N.A.   \n",
       "2684          16               73              240             NaN       N.A.   \n",
       "2685          16               73              240             NaN       N.A.   \n",
       "2686          16               73              240             NaN       N.A.   \n",
       "2687          16               73              240             NaN       N.A.   \n",
       "...          ...              ...              ...             ...        ...   \n",
       "4212        7263               25            12190           120.0        3.8   \n",
       "4213        7263               25            12190           120.0        3.8   \n",
       "4214          86               39              460             NaN       N.A.   \n",
       "4215          86               39              460             NaN       N.A.   \n",
       "4249         178               96              750             NaN       N.A.   \n",
       "\n",
       "     Med. Age Urban Pop % World Share  \n",
       "2683     N.A.         75%       0.00%  \n",
       "2684     N.A.         75%       0.00%  \n",
       "2685     N.A.         75%       0.00%  \n",
       "2686     N.A.         75%       0.00%  \n",
       "2687     N.A.         75%       0.00%  \n",
       "...       ...         ...         ...  \n",
       "4212       21         24%       0.00%  \n",
       "4213       21         24%       0.00%  \n",
       "4214     N.A.        N.A.       0.00%  \n",
       "4215     N.A.        N.A.       0.00%  \n",
       "4249     N.A.         74%       0.00%  \n",
       "\n",
       "[90 rows x 20 columns]"
      ]
     },
     "execution_count": 34,
     "metadata": {},
     "output_type": "execute_result"
    }
   ],
   "source": [
    "bottom_ten_df = end_lang[end_lang['Country Population (2020)'].isin(bottom_ten)]\n",
    "bottom_ten_df"
   ]
  },
  {
   "cell_type": "code",
   "execution_count": 35,
   "metadata": {
    "slideshow": {
     "slide_type": "skip"
    }
   },
   "outputs": [
    {
     "data": {
      "image/png": "[encoded data removed]",
      "text/plain": [
       "<Figure size 2160x1080 with 2 Axes>"
      ]
     },
     "metadata": {
      "needs_background": "light"
     },
     "output_type": "display_data"
    }
   ],
   "source": [
    "# Plot the data for both top ten and botton ten next to each other\n",
    "plt.figure(figsize = [30,15])\n",
    "#Top 10 Most populated\n",
    "plt.subplot(1,2,1)\n",
    "sb.pointplot(data=top_ten_df, x = 'Name in English', y = 'Number of speakers', hue = 'Degree of endangerment',\n",
    "             ci = 'sd', linestyles = \"\", dodge = True);\n",
    "plt.xticks(rotation = 90);\n",
    "#Top 10 least populated\n",
    "plt.subplot(1,2,2)\n",
    "sb.pointplot(data=bottom_ten_df, x = 'Name in English', y = 'Number of speakers', hue = 'Degree of endangerment',\n",
    "             ci = 'sd', linestyles = \"\", dodge = True);\n",
    "plt.xticks(rotation = 90);\n"
   ]
  },
  {
   "cell_type": "markdown",
   "metadata": {
    "slideshow": {
     "slide_type": "skip"
    }
   },
   "source": [
    "Looks like there is a very large volume of languages in the top 10 most populous countries, which has made our left graph practically unreadable. Let's devide the data into hemisphere quadrants to determine where the highest volume of endangered languages is located."
   ]
  },
  {
   "cell_type": "code",
   "execution_count": 36,
   "metadata": {
    "slideshow": {
     "slide_type": "skip"
    }
   },
   "outputs": [
    {
     "name": "stderr",
     "output_type": "stream",
     "text": [
      "<ipython-input-36-c3c9c89bd11b>:3: SettingWithCopyWarning: \n",
      "A value is trying to be set on a copy of a slice from a DataFrame\n",
      "\n",
      "See the caveats in the documentation: https://pandas.pydata.org/pandas-docs/stable/user_guide/indexing.html#returning-a-view-versus-a-copy\n",
      "  end_lang['Hemisphere Quadrant'][(end_lang['Latitude'] > 0) & (end_lang['Longitude'] < 0)] = 'North Western'\n",
      "<ipython-input-36-c3c9c89bd11b>:4: SettingWithCopyWarning: \n",
      "A value is trying to be set on a copy of a slice from a DataFrame\n",
      "\n",
      "See the caveats in the documentation: https://pandas.pydata.org/pandas-docs/stable/user_guide/indexing.html#returning-a-view-versus-a-copy\n",
      "  end_lang['Hemisphere Quadrant'][(end_lang['Latitude'] > 0) & (end_lang['Longitude'] > 0)] = 'North Eastern'\n",
      "<ipython-input-36-c3c9c89bd11b>:5: SettingWithCopyWarning: \n",
      "A value is trying to be set on a copy of a slice from a DataFrame\n",
      "\n",
      "See the caveats in the documentation: https://pandas.pydata.org/pandas-docs/stable/user_guide/indexing.html#returning-a-view-versus-a-copy\n",
      "  end_lang['Hemisphere Quadrant'][(end_lang['Latitude'] < 0) & (end_lang['Longitude'] < 0)] = 'South Western'\n",
      "<ipython-input-36-c3c9c89bd11b>:6: SettingWithCopyWarning: \n",
      "A value is trying to be set on a copy of a slice from a DataFrame\n",
      "\n",
      "See the caveats in the documentation: https://pandas.pydata.org/pandas-docs/stable/user_guide/indexing.html#returning-a-view-versus-a-copy\n",
      "  end_lang['Hemisphere Quadrant'][(end_lang['Latitude'] < 0) & (end_lang['Longitude'] > 0)] = 'South Eastern'\n"
     ]
    }
   ],
   "source": [
    "# Create a hemisphere quadrant column\n",
    "end_lang['Hemisphere Quadrant'] = ''\n",
    "end_lang['Hemisphere Quadrant'][(end_lang['Latitude'] > 0) & (end_lang['Longitude'] < 0)] = 'North Western'\n",
    "end_lang['Hemisphere Quadrant'][(end_lang['Latitude'] > 0) & (end_lang['Longitude'] > 0)] = 'North Eastern'\n",
    "end_lang['Hemisphere Quadrant'][(end_lang['Latitude'] < 0) & (end_lang['Longitude'] < 0)] = 'South Western'\n",
    "end_lang['Hemisphere Quadrant'][(end_lang['Latitude'] < 0) & (end_lang['Longitude'] > 0)] = 'South Eastern'"
   ]
  },
  {
   "cell_type": "code",
   "execution_count": 37,
   "metadata": {
    "slideshow": {
     "slide_type": "skip"
    }
   },
   "outputs": [
    {
     "data": {
      "text/html": [
       "<div>\n",
       "<style scoped>\n",
       "    .dataframe tbody tr th:only-of-type {\n",
       "        vertical-align: middle;\n",
       "    }\n",
       "\n",
       "    .dataframe tbody tr th {\n",
       "        vertical-align: top;\n",
       "    }\n",
       "\n",
       "    .dataframe thead th {\n",
       "        text-align: right;\n",
       "    }\n",
       "</style>\n",
       "<table border=\"1\" class=\"dataframe\">\n",
       "  <thead>\n",
       "    <tr style=\"text-align: right;\">\n",
       "      <th></th>\n",
       "      <th>ID</th>\n",
       "      <th>Name in English</th>\n",
       "      <th>Countries</th>\n",
       "      <th>Degree of endangerment</th>\n",
       "      <th>Number of speakers</th>\n",
       "      <th>Sources</th>\n",
       "      <th>Latitude</th>\n",
       "      <th>Longitude</th>\n",
       "      <th>Description of the location</th>\n",
       "      <th>Country (or dependency)</th>\n",
       "      <th>...</th>\n",
       "      <th>Yearly Change</th>\n",
       "      <th>Net Change</th>\n",
       "      <th>Density (P/Km²)</th>\n",
       "      <th>Land Area (Km²)</th>\n",
       "      <th>Migrants (net)</th>\n",
       "      <th>Fert. Rate</th>\n",
       "      <th>Med. Age</th>\n",
       "      <th>Urban Pop %</th>\n",
       "      <th>World Share</th>\n",
       "      <th>Hemisphere Quadrant</th>\n",
       "    </tr>\n",
       "  </thead>\n",
       "  <tbody>\n",
       "    <tr>\n",
       "      <th>1902</th>\n",
       "      <td>2057</td>\n",
       "      <td>Romani (Colombia)</td>\n",
       "      <td>Colombia</td>\n",
       "      <td>Vulnerable</td>\n",
       "      <td>4858.0</td>\n",
       "      <td>Colombia Una Nación Multicultural. DANE. 2007</td>\n",
       "      <td>NaN</td>\n",
       "      <td>NaN</td>\n",
       "      <td>Se ubican en los departamentos de Atlántico y ...</td>\n",
       "      <td>Colombia</td>\n",
       "      <td>...</td>\n",
       "      <td>1.08%</td>\n",
       "      <td>543448</td>\n",
       "      <td>46</td>\n",
       "      <td>1109500</td>\n",
       "      <td>204796.0</td>\n",
       "      <td>1.8</td>\n",
       "      <td>31</td>\n",
       "      <td>80%</td>\n",
       "      <td>0.65%</td>\n",
       "      <td></td>\n",
       "    </tr>\n",
       "    <tr>\n",
       "      <th>1903</th>\n",
       "      <td>2057</td>\n",
       "      <td>Romani (Colombia)</td>\n",
       "      <td>Colombia</td>\n",
       "      <td>Vulnerable</td>\n",
       "      <td>4858.0</td>\n",
       "      <td>Colombia Una Nación Multicultural. DANE. 2007</td>\n",
       "      <td>NaN</td>\n",
       "      <td>NaN</td>\n",
       "      <td>Norte de Santander y Santander en la frontera...</td>\n",
       "      <td>Colombia</td>\n",
       "      <td>...</td>\n",
       "      <td>1.08%</td>\n",
       "      <td>543448</td>\n",
       "      <td>46</td>\n",
       "      <td>1109500</td>\n",
       "      <td>204796.0</td>\n",
       "      <td>1.8</td>\n",
       "      <td>31</td>\n",
       "      <td>80%</td>\n",
       "      <td>0.65%</td>\n",
       "      <td></td>\n",
       "    </tr>\n",
       "    <tr>\n",
       "      <th>1904</th>\n",
       "      <td>2057</td>\n",
       "      <td>Romani (Colombia)</td>\n",
       "      <td>Colombia</td>\n",
       "      <td>Vulnerable</td>\n",
       "      <td>4858.0</td>\n",
       "      <td>Colombia Una Nación Multicultural. DANE. 2007</td>\n",
       "      <td>NaN</td>\n",
       "      <td>NaN</td>\n",
       "      <td>en Bogotá D.C. y en el suroccidente de Colomb...</td>\n",
       "      <td>Colombia</td>\n",
       "      <td>...</td>\n",
       "      <td>1.08%</td>\n",
       "      <td>543448</td>\n",
       "      <td>46</td>\n",
       "      <td>1109500</td>\n",
       "      <td>204796.0</td>\n",
       "      <td>1.8</td>\n",
       "      <td>31</td>\n",
       "      <td>80%</td>\n",
       "      <td>0.65%</td>\n",
       "      <td></td>\n",
       "    </tr>\n",
       "    <tr>\n",
       "      <th>2275</th>\n",
       "      <td>1904</td>\n",
       "      <td>Dorasque</td>\n",
       "      <td>Panama</td>\n",
       "      <td>Extinct</td>\n",
       "      <td>0.0</td>\n",
       "      <td>Ethnologue</td>\n",
       "      <td>NaN</td>\n",
       "      <td>NaN</td>\n",
       "      <td>NaN</td>\n",
       "      <td>Panama</td>\n",
       "      <td>...</td>\n",
       "      <td>1.61%</td>\n",
       "      <td>68328</td>\n",
       "      <td>58</td>\n",
       "      <td>74340</td>\n",
       "      <td>11200.0</td>\n",
       "      <td>2.5</td>\n",
       "      <td>30</td>\n",
       "      <td>68%</td>\n",
       "      <td>0.06%</td>\n",
       "      <td></td>\n",
       "    </tr>\n",
       "    <tr>\n",
       "      <th>3076</th>\n",
       "      <td>1629</td>\n",
       "      <td>Arapáso</td>\n",
       "      <td>Brazil</td>\n",
       "      <td>Extinct</td>\n",
       "      <td>0.0</td>\n",
       "      <td>Databank Moore, 2008.</td>\n",
       "      <td>0.0</td>\n",
       "      <td>-66.0</td>\n",
       "      <td>NaN</td>\n",
       "      <td>Brazil</td>\n",
       "      <td>...</td>\n",
       "      <td>0.72%</td>\n",
       "      <td>1509890</td>\n",
       "      <td>25</td>\n",
       "      <td>8358140</td>\n",
       "      <td>21200.0</td>\n",
       "      <td>1.7</td>\n",
       "      <td>33</td>\n",
       "      <td>88%</td>\n",
       "      <td>2.73%</td>\n",
       "      <td></td>\n",
       "    </tr>\n",
       "    <tr>\n",
       "      <th>4205</th>\n",
       "      <td>2154</td>\n",
       "      <td>Umbrul</td>\n",
       "      <td>Vanuatu</td>\n",
       "      <td>Critically endangered</td>\n",
       "      <td>5.0</td>\n",
       "      <td>Lynch &amp; Crowley 2001</td>\n",
       "      <td>NaN</td>\n",
       "      <td>NaN</td>\n",
       "      <td>Malekula</td>\n",
       "      <td>Vanuatu</td>\n",
       "      <td>...</td>\n",
       "      <td>2.42%</td>\n",
       "      <td>7263</td>\n",
       "      <td>25</td>\n",
       "      <td>12190</td>\n",
       "      <td>120.0</td>\n",
       "      <td>3.8</td>\n",
       "      <td>21</td>\n",
       "      <td>24%</td>\n",
       "      <td>0.00%</td>\n",
       "      <td></td>\n",
       "    </tr>\n",
       "  </tbody>\n",
       "</table>\n",
       "<p>6 rows × 21 columns</p>\n",
       "</div>"
      ],
      "text/plain": [
       "        ID    Name in English Countries Degree of endangerment  \\\n",
       "1902  2057  Romani (Colombia)  Colombia             Vulnerable   \n",
       "1903  2057  Romani (Colombia)  Colombia             Vulnerable   \n",
       "1904  2057  Romani (Colombia)  Colombia             Vulnerable   \n",
       "2275  1904           Dorasque    Panama                Extinct   \n",
       "3076  1629            Arapáso    Brazil                Extinct   \n",
       "4205  2154             Umbrul   Vanuatu  Critically endangered   \n",
       "\n",
       "      Number of speakers                                        Sources  \\\n",
       "1902              4858.0  Colombia Una Nación Multicultural. DANE. 2007   \n",
       "1903              4858.0  Colombia Una Nación Multicultural. DANE. 2007   \n",
       "1904              4858.0  Colombia Una Nación Multicultural. DANE. 2007   \n",
       "2275                 0.0                                     Ethnologue   \n",
       "3076                 0.0                          Databank Moore, 2008.   \n",
       "4205                 5.0                           Lynch & Crowley 2001   \n",
       "\n",
       "      Latitude  Longitude                        Description of the location  \\\n",
       "1902       NaN        NaN  Se ubican en los departamentos de Atlántico y ...   \n",
       "1903       NaN        NaN   Norte de Santander y Santander en la frontera...   \n",
       "1904       NaN        NaN   en Bogotá D.C. y en el suroccidente de Colomb...   \n",
       "2275       NaN        NaN                                                NaN   \n",
       "3076       0.0      -66.0                                                NaN   \n",
       "4205       NaN        NaN                                           Malekula   \n",
       "\n",
       "     Country (or dependency)  ...  Yearly Change Net Change  Density (P/Km²)  \\\n",
       "1902                Colombia  ...          1.08%     543448               46   \n",
       "1903                Colombia  ...          1.08%     543448               46   \n",
       "1904                Colombia  ...          1.08%     543448               46   \n",
       "2275                  Panama  ...          1.61%      68328               58   \n",
       "3076                  Brazil  ...          0.72%    1509890               25   \n",
       "4205                 Vanuatu  ...          2.42%       7263               25   \n",
       "\n",
       "      Land Area (Km²)  Migrants (net)  Fert. Rate Med. Age Urban Pop %  \\\n",
       "1902          1109500        204796.0         1.8       31         80%   \n",
       "1903          1109500        204796.0         1.8       31         80%   \n",
       "1904          1109500        204796.0         1.8       31         80%   \n",
       "2275            74340         11200.0         2.5       30         68%   \n",
       "3076          8358140         21200.0         1.7       33         88%   \n",
       "4205            12190           120.0         3.8       21         24%   \n",
       "\n",
       "     World Share Hemisphere Quadrant  \n",
       "1902       0.65%                      \n",
       "1903       0.65%                      \n",
       "1904       0.65%                      \n",
       "2275       0.06%                      \n",
       "3076       2.73%                      \n",
       "4205       0.00%                      \n",
       "\n",
       "[6 rows x 21 columns]"
      ]
     },
     "execution_count": 37,
     "metadata": {},
     "output_type": "execute_result"
    }
   ],
   "source": [
    "end_lang[end_lang['Hemisphere Quadrant'] == '']"
   ]
  },
  {
   "cell_type": "markdown",
   "metadata": {
    "slideshow": {
     "slide_type": "skip"
    }
   },
   "source": [
    "Let's exclude the records without coordinates or that fall directly on the equator/greenwich line"
   ]
  },
  {
   "cell_type": "code",
   "execution_count": 38,
   "metadata": {
    "slideshow": {
     "slide_type": "skip"
    }
   },
   "outputs": [],
   "source": [
    "end_lang = end_lang[end_lang['Hemisphere Quadrant'] != '']"
   ]
  },
  {
   "cell_type": "markdown",
   "metadata": {
    "slideshow": {
     "slide_type": "slide"
    }
   },
   "source": [
    "Below we can see the correlation between # of speakers per language, Hemisphere language location, and Degree of Endangerment.\n",
    "\n",
    "It looks like the North Eastern hemisphere has the most speakers per endangered language. This could be due to the fact that China and India are very densely populated countries.\n",
    "\n",
    "In addition we can see that the South Eastern and South Western hemispheres have the least amount of speakers per critically endangered language. More research is needed but perhaps the fact that both of these areas were heavily colonized has an impact on these numbers."
   ]
  },
  {
   "cell_type": "code",
   "execution_count": 39,
   "metadata": {
    "slideshow": {
     "slide_type": "subslide"
    }
   },
   "outputs": [
    {
     "name": "stderr",
     "output_type": "stream",
     "text": [
      "<ipython-input-39-bfa38be2ec25>:9: SettingWithCopyWarning: \n",
      "A value is trying to be set on a copy of a slice from a DataFrame.\n",
      "Try using .loc[row_indexer,col_indexer] = value instead\n",
      "\n",
      "See the caveats in the documentation: https://pandas.pydata.org/pandas-docs/stable/user_guide/indexing.html#returning-a-view-versus-a-copy\n",
      "  non_extinct['Degree of endangerment'] = non_extinct['Degree of endangerment'].astype(cat_type)\n"
     ]
    },
    {
     "data": {
      "text/plain": [
       "<matplotlib.legend.Legend at 0x217926f03a0>"
      ]
     },
     "execution_count": 39,
     "metadata": {},
     "output_type": "execute_result"
    },
    {
     "data": {
      "image/png": "[encoded data removed]",
      "text/plain": [
       "<Figure size 2160x1080 with 1 Axes>"
      ]
     },
     "metadata": {
      "needs_background": "light"
     },
     "output_type": "display_data"
    }
   ],
   "source": [
    "# Set figure size\n",
    "plt.figure(figsize = [30,15])\n",
    "# Let's plot a barchart for non-extinct degrees of endagerment (since we won't be able to use a logarithmic scale if\n",
    "# we include those)\n",
    "non_extinct = end_lang[end_lang['Degree of endangerment'] != 'Extinct']\n",
    "#Reset the categories to exclude \"Extinct\"\n",
    "end_cats = ['Vulnerable','Definitely endangered','Severely endangered','Critically endangered']\n",
    "cat_type = CategoricalDtype(categories=end_cats, ordered=True)\n",
    "non_extinct['Degree of endangerment'] = non_extinct['Degree of endangerment'].astype(cat_type)\n",
    "\n",
    "#Plot graph\n",
    "ax = sb.barplot(data= non_extinct, x = 'Hemisphere Quadrant', y = 'Number of speakers', hue = 'Degree of endangerment');\n",
    "plt.yscale('log')\n",
    "plt.ylabel('Number of speakers (log10)', fontsize=14)\n",
    "plt.xlabel('Hemisphere Quadrant', fontsize=14)\n",
    "ticks = [10,100, 1000, 10000,100000,1000000]\n",
    "labels = ['{}'.format(v) for v in ticks]\n",
    "plt.yticks(ticks,labels);\n",
    "plt.title('Degree of Endangerement(Non-Extinct) & Number of Speakers Per Hemisphere', fontsize=18)\n",
    "plt.legend(fontsize=14)\n"
   ]
  },
  {
   "cell_type": "markdown",
   "metadata": {
    "slideshow": {
     "slide_type": "skip"
    }
   },
   "source": [
    "Now we've got some better insights from the grap above. It looks like the North Eastern hemisphere has the speakers per endangered language. This could be due to the fact that China and India are very densely populated countries.\n",
    "\n",
    "In addition we can see that the South Eastern and South Western hemispheres have the least amount of speakers per critically endangered language. More research is needed but perhaps the fact that both of these areas were heavily colonized has an impact on these numbers. "
   ]
  },
  {
   "cell_type": "markdown",
   "metadata": {
    "slideshow": {
     "slide_type": "slide"
    }
   },
   "source": [
    "Interestingly, the North Easter hemisphere has the highest number of extinct languages. This could be perhaps due to the sheer amount of different languages and dialects in China/India and Japan but more research is needed."
   ]
  },
  {
   "cell_type": "code",
   "execution_count": 41,
   "metadata": {
    "slideshow": {
     "slide_type": "subslide"
    }
   },
   "outputs": [
    {
     "name": "stderr",
     "output_type": "stream",
     "text": [
      "<ipython-input-41-73169aecadd9>:6: SettingWithCopyWarning: \n",
      "A value is trying to be set on a copy of a slice from a DataFrame.\n",
      "Try using .loc[row_indexer,col_indexer] = value instead\n",
      "\n",
      "See the caveats in the documentation: https://pandas.pydata.org/pandas-docs/stable/user_guide/indexing.html#returning-a-view-versus-a-copy\n",
      "  extinct['Degree of endangerment'] = extinct['Degree of endangerment'].astype(cat_type)\n"
     ]
    },
    {
     "data": {
      "text/plain": [
       "Text(0.5, 1.0, 'Extinct Languages Per Hemisphere')"
      ]
     },
     "execution_count": 41,
     "metadata": {},
     "output_type": "execute_result"
    },
    {
     "data": {
      "image/png": "[encoded data removed]",
      "text/plain": [
       "<Figure size 864x576 with 1 Axes>"
      ]
     },
     "metadata": {
      "needs_background": "light"
     },
     "output_type": "display_data"
    }
   ],
   "source": [
    "#Now let's see the distribution of extinct languages by hemisphere.\n",
    "extinct = end_lang[end_lang['Degree of endangerment'] == 'Extinct']\n",
    "#Reset the categories to exclude \"Extinct\"\n",
    "end_cats = ['Extinct']\n",
    "cat_type = CategoricalDtype(categories=end_cats, ordered=True)\n",
    "extinct['Degree of endangerment'] = extinct['Degree of endangerment'].astype(cat_type)\n",
    "\n",
    "#Plot graph\n",
    "plt.figure(figsize=[12,8])\n",
    "base_color = sb.color_palette()[0]\n",
    "sb.countplot(data=end_lang, x='Hemisphere Quadrant', color=base_color, linewidth=False)\n",
    "plt.ylabel('Number of Extinct Languages', fontsize=12)\n",
    "plt.xlabel('Hemisphere Quadrant',fontsize=12)\n",
    "plt.title('Extinct Languages Per Hemisphere', fontsize=14)"
   ]
  },
  {
   "cell_type": "markdown",
   "metadata": {
    "slideshow": {
     "slide_type": "skip"
    }
   },
   "source": [
    "Interestingly, the North Easter hemisphere has the highest number of extinct languages. This could be perhaps due to the sheer amount of different languages and dialects in China/India and Japan but more research is needed."
   ]
  }
 ],
 "metadata": {
  "celltoolbar": "Slideshow",
  "kernelspec": {
   "display_name": "Python 3",
   "language": "python",
   "name": "python3"
  },
  "language_info": {
   "codemirror_mode": {
    "name": "ipython",
    "version": 3
   },
   "file_extension": ".py",
   "mimetype": "text/x-python",
   "name": "python",
   "nbconvert_exporter": "python",
   "pygments_lexer": "ipython3",
   "version": "3.8.5"
  }
 },
 "nbformat": 4,
 "nbformat_minor": 2
}
